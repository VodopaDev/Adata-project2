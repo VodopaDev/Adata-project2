{
 "cells": [
  {
   "cell_type": "code",
   "execution_count": 1,
   "metadata": {},
   "outputs": [],
   "source": [
    "import numpy as np\n",
    "import pandas as pd\n",
    "from shapely.geometry import shape, Point\n",
    "import json"
   ]
  },
  {
   "cell_type": "code",
   "execution_count": 2,
   "metadata": {},
   "outputs": [],
   "source": [
    "with open('resources/chicago-community.geojson') as f1:\n",
    "    communities = json.load(f1)\n",
    "\n",
    "with open('resources/chicago-neighborhoods.geojson') as f2:\n",
    "    neighborhoods = json.load(f2)"
   ]
  },
  {
   "cell_type": "code",
   "execution_count": 44,
   "metadata": {},
   "outputs": [
    {
     "data": {
      "text/html": [
       "<div>\n",
       "<style scoped>\n",
       "    .dataframe tbody tr th:only-of-type {\n",
       "        vertical-align: middle;\n",
       "    }\n",
       "\n",
       "    .dataframe tbody tr th {\n",
       "        vertical-align: top;\n",
       "    }\n",
       "\n",
       "    .dataframe thead th {\n",
       "        text-align: right;\n",
       "    }\n",
       "</style>\n",
       "<table border=\"1\" class=\"dataframe\">\n",
       "  <thead>\n",
       "    <tr style=\"text-align: right;\">\n",
       "      <th></th>\n",
       "      <th>Inspection ID</th>\n",
       "      <th>DBA Name</th>\n",
       "      <th>AKA Name</th>\n",
       "      <th>License #</th>\n",
       "      <th>Facility Type</th>\n",
       "      <th>Risk</th>\n",
       "      <th>Address</th>\n",
       "      <th>City</th>\n",
       "      <th>State</th>\n",
       "      <th>Zip</th>\n",
       "      <th>...</th>\n",
       "      <th>Results</th>\n",
       "      <th>Violations</th>\n",
       "      <th>Latitude</th>\n",
       "      <th>Longitude</th>\n",
       "      <th>Location</th>\n",
       "      <th>Historical Wards 2003-2015</th>\n",
       "      <th>Zip Codes</th>\n",
       "      <th>Community Areas</th>\n",
       "      <th>Census Tracts</th>\n",
       "      <th>Wards</th>\n",
       "    </tr>\n",
       "  </thead>\n",
       "  <tbody>\n",
       "    <tr>\n",
       "      <th>0</th>\n",
       "      <td>2320519</td>\n",
       "      <td>SALAM  RESTAURANT</td>\n",
       "      <td>SALAM RESTAURANT</td>\n",
       "      <td>2002822.0</td>\n",
       "      <td>Restaurant</td>\n",
       "      <td>Risk 1 (High)</td>\n",
       "      <td>4634-4636 N KEDZIE AVE</td>\n",
       "      <td>CHICAGO</td>\n",
       "      <td>IL</td>\n",
       "      <td>60625.0</td>\n",
       "      <td>...</td>\n",
       "      <td>Pass</td>\n",
       "      <td>NaN</td>\n",
       "      <td>41.965719</td>\n",
       "      <td>-87.708538</td>\n",
       "      <td>{'longitude': '41.965719017423005', 'latitude'...</td>\n",
       "      <td>NaN</td>\n",
       "      <td>NaN</td>\n",
       "      <td>NaN</td>\n",
       "      <td>NaN</td>\n",
       "      <td>NaN</td>\n",
       "    </tr>\n",
       "    <tr>\n",
       "      <th>1</th>\n",
       "      <td>2320509</td>\n",
       "      <td>TAQUERIA EL DORADO</td>\n",
       "      <td>TAQUERIA EL DORADO</td>\n",
       "      <td>2694960.0</td>\n",
       "      <td>Restaurant</td>\n",
       "      <td>Risk 1 (High)</td>\n",
       "      <td>2114 W LAWRENCE AVE</td>\n",
       "      <td>CHICAGO</td>\n",
       "      <td>IL</td>\n",
       "      <td>60625.0</td>\n",
       "      <td>...</td>\n",
       "      <td>Fail</td>\n",
       "      <td>3. MANAGEMENT, FOOD EMPLOYEE AND CONDITIONAL E...</td>\n",
       "      <td>41.968820</td>\n",
       "      <td>-87.682292</td>\n",
       "      <td>{'longitude': '41.968819723568394', 'latitude'...</td>\n",
       "      <td>NaN</td>\n",
       "      <td>NaN</td>\n",
       "      <td>NaN</td>\n",
       "      <td>NaN</td>\n",
       "      <td>NaN</td>\n",
       "    </tr>\n",
       "  </tbody>\n",
       "</table>\n",
       "<p>2 rows × 22 columns</p>\n",
       "</div>"
      ],
      "text/plain": [
       "   Inspection ID            DBA Name            AKA Name  License #  \\\n",
       "0        2320519   SALAM  RESTAURANT    SALAM RESTAURANT  2002822.0   \n",
       "1        2320509  TAQUERIA EL DORADO  TAQUERIA EL DORADO  2694960.0   \n",
       "\n",
       "  Facility Type           Risk                  Address     City State  \\\n",
       "0    Restaurant  Risk 1 (High)  4634-4636 N KEDZIE AVE   CHICAGO    IL   \n",
       "1    Restaurant  Risk 1 (High)     2114 W LAWRENCE AVE   CHICAGO    IL   \n",
       "\n",
       "       Zip  ... Results                                         Violations  \\\n",
       "0  60625.0  ...    Pass                                                NaN   \n",
       "1  60625.0  ...    Fail  3. MANAGEMENT, FOOD EMPLOYEE AND CONDITIONAL E...   \n",
       "\n",
       "    Latitude  Longitude                                           Location  \\\n",
       "0  41.965719 -87.708538  {'longitude': '41.965719017423005', 'latitude'...   \n",
       "1  41.968820 -87.682292  {'longitude': '41.968819723568394', 'latitude'...   \n",
       "\n",
       "   Historical Wards 2003-2015 Zip Codes  Community Areas  Census Tracts  Wards  \n",
       "0                         NaN       NaN              NaN            NaN    NaN  \n",
       "1                         NaN       NaN              NaN            NaN    NaN  \n",
       "\n",
       "[2 rows x 22 columns]"
      ]
     },
     "execution_count": 44,
     "metadata": {},
     "output_type": "execute_result"
    }
   ],
   "source": [
    "dataset_path = 'resources/food-inspections.csv'\n",
    "dataset = pd.read_csv(dataset_path, sep=',')\n",
    "dataset.head(2)"
   ]
  },
  {
   "cell_type": "markdown",
   "metadata": {},
   "source": [
    "### Cleaning the State column"
   ]
  },
  {
   "cell_type": "code",
   "execution_count": 57,
   "metadata": {},
   "outputs": [
    {
     "name": "stdout",
     "output_type": "stream",
     "text": [
      "Confirmed illinois shops: 194859\n",
      "Unsure shops: 42\n"
     ]
    }
   ],
   "source": [
    "# Separate the wheat from the chaff\n",
    "sure_illinois = dataset[dataset.State == 'IL']\n",
    "nan_state = dataset[dataset.State.isnull()]\n",
    "print(\"Confirmed illinois shops: {}\".format(sure_illinois.shape[0]))\n",
    "print(\"Unsure shops: {}\".format(nan_state.shape[0]))"
   ]
  },
  {
   "cell_type": "code",
   "execution_count": 58,
   "metadata": {},
   "outputs": [],
   "source": [
    "# Find all the unsure shops that have coordinates in Chicago and change their State\n",
    "def isInIL(longitude, latitude):\n",
    "    point = Point(longitude, latitude)\n",
    "    for feature in communities['features']:\n",
    "        polygon = shape(feature['geometry'])\n",
    "        if polygon.contains(point):\n",
    "            return True\n",
    "    return False\n",
    "\n",
    "new_state = nan_state[nan_state[['Longitude','Latitude']].apply(lambda x: isInIL(x[0],x[1]), axis=1)]\n",
    "new_state.State = 'IL'"
   ]
  },
  {
   "cell_type": "code",
   "execution_count": 158,
   "metadata": {},
   "outputs": [
    {
     "name": "stdout",
     "output_type": "stream",
     "text": [
      "Shops in IL: 194901\n",
      "Lost outliers: 3\n"
     ]
    }
   ],
   "source": [
    "# Combine previous IL datasets into one and verify there is no outlier left\n",
    "dataset_state_cleaned = pd.concat([sure_illinois, new_state])\n",
    "print(\"Shops in IL: {}\".format(dataset_state_cleaned.shape[0]))\n",
    "print(\"Lost outliers: {}\".format(dataset.shape[0] - dataset_state_cleaned.shape[0]))"
   ]
  },
  {
   "cell_type": "markdown",
   "metadata": {},
   "source": [
    "### Cleaning the City column"
   ]
  },
  {
   "cell_type": "code",
   "execution_count": 148,
   "metadata": {},
   "outputs": [
    {
     "name": "stdout",
     "output_type": "stream",
     "text": [
      "Unique cities: 64\n",
      "References to Chicago among these cities: 10\n"
     ]
    }
   ],
   "source": [
    "# There are a lot of cities and Chicago is often mispelled...\n",
    "cities = dataset_state_cleaned.City.str.lower()\n",
    "chicago_misspells = cities[cities.str.contains('cago', na=False, regex=False)]\n",
    "print(\"Unique cities: {}\".format(cities.unique().shape[0]))\n",
    "print(\"References to Chicago among these cities: {}\".format(chicago_misspells.unique().shape[0]))"
   ]
  },
  {
   "cell_type": "code",
   "execution_count": 149,
   "metadata": {},
   "outputs": [
    {
     "name": "stdout",
     "output_type": "stream",
     "text": [
      "Shops in Chicago: 194567\n",
      "Unsure shops: 334\n"
     ]
    }
   ],
   "source": [
    "# As before: separate the wheat from the chaff\n",
    "sure_chicago = dataset_state_cleaned[dataset_state_cleaned.City.str.lower().isin(chicago_misspells)]\n",
    "unsure_city = dataset_state_cleaned[~dataset_state_cleaned.City.str.lower().isin(chicago_misspells)]\n",
    "print(\"Shops in Chicago: {}\".format(sure_chicago.shape[0]))\n",
    "print(\"Unsure shops: {}\".format(unsure_city.shape[0]))"
   ]
  },
  {
   "cell_type": "code",
   "execution_count": 153,
   "metadata": {},
   "outputs": [],
   "source": [
    "def isInChicago(city_name, longitude, latitude):\n",
    "    point = Point(longitude, latitude)\n",
    "    for feature in communities['features']:\n",
    "        polygon = shape(feature['geometry'])\n",
    "        if polygon.contains(point):\n",
    "            return True\n",
    "    return False\n",
    "\n",
    "new_city = unsure_city[unsure_city[['City','Longitude','Latitude']].apply(lambda x: isInChicago(x[0],x[1],x[2]), axis=1)]"
   ]
  },
  {
   "cell_type": "code",
   "execution_count": 157,
   "metadata": {},
   "outputs": [
    {
     "name": "stdout",
     "output_type": "stream",
     "text": [
      "Shops in Chicago: 194714\n",
      "Lost outliers: 187\n"
     ]
    }
   ],
   "source": [
    "# Combine previous Chicago datasets into one and normalize the city name\n",
    "dataset_city_cleaned = pd.concat([sure_chicago, new_city])\n",
    "dataset_city_cleaned.City = 'Chicago'\n",
    "print(\"Shops in Chicago: {}\".format(dataset_city_cleaned.shape[0]))\n",
    "print(\"Lost outliers: {}\".format(dataset_state_cleaned.shape[0] - dataset_city_cleaned.shape[0]))"
   ]
  }
 ],
 "metadata": {
  "kernelspec": {
   "display_name": "Python 3",
   "language": "python",
   "name": "python3"
  },
  "language_info": {
   "codemirror_mode": {
    "name": "ipython",
    "version": 3
   },
   "file_extension": ".py",
   "mimetype": "text/x-python",
   "name": "python",
   "nbconvert_exporter": "python",
   "pygments_lexer": "ipython3",
   "version": "3.7.4"
  }
 },
 "nbformat": 4,
 "nbformat_minor": 4
}
