{
 "cells": [
  {
   "cell_type": "markdown",
   "metadata": {},
   "source": [
    "# Cleaning the Google dataset  \n",
    "The Google local review dataset is huge.\n",
    "Most of the businesses in it aren't even in Chicago so we will first make sure they are out of the dataset.\n",
    "From these filtered businesses, we can easily filter the reviews by only keeping those who relate to a Chicago place."
   ]
  },
  {
   "cell_type": "code",
   "execution_count": 4,
   "metadata": {},
   "outputs": [],
   "source": [
    "import numpy as np\n",
    "import seaborn as sb\n",
    "import pandas as pd\n",
    "import matplotlib.pyplot as plt\n",
    "import pyspark\n",
    "import pyspark.sql\n",
    "from pyspark.sql import *\n",
    "from pyspark.sql.functions import *\n",
    "import gzip\n",
    "\n",
    "conf = pyspark.SparkConf().setMaster(\"local[*]\").setAll([\n",
    "                                   ('spark.executor.memory', '16g'),  # find\n",
    "                                   ('spark.driver.memory','16g'), # your\n",
    "                                   ('spark.driver.maxResultSize', '2G') # setup\n",
    "                                  ])\n",
    "# create the session\n",
    "spark = SparkSession.builder.config(conf=conf).getOrCreate()\n",
    "\n",
    "# create the context\n",
    "sc = spark.sparkContext\n",
    "\n",
    "# FIX for Spark 2.x\n",
    "locale = sc._jvm.java.util.Locale\n",
    "locale.setDefault(locale.forLanguageTag(\"en-US\"))"
   ]
  },
  {
   "cell_type": "markdown",
   "metadata": {},
   "source": [
    "First we clean the loose json format that isn't recognized by pandas or spark.  \n",
    "We used the method [recommended from the dataset](https://cseweb.ucsd.edu/~jmcauley/datasets.html)"
   ]
  },
  {
   "cell_type": "code",
   "execution_count": 19,
   "metadata": {},
   "outputs": [],
   "source": [
    "def parse(path):\n",
    "  g = gzip.open(path, 'r')\n",
    "  for l in g:\n",
    "    yield eval(l)"
   ]
  },
  {
   "cell_type": "code",
   "execution_count": null,
   "metadata": {},
   "outputs": [],
   "source": [
    "places = parse('resources/google/places.json.gz')\n",
    "places_df = pd.DataFrame.from_records(places)"
   ]
  },
  {
   "cell_type": "code",
   "execution_count": null,
   "metadata": {},
   "outputs": [],
   "source": [
    "reviews = parse('resources/google/reviews.json.gz')\n",
    "reviews_df = pd.DataFrame.from_records(reviews)"
   ]
  },
  {
   "cell_type": "code",
   "execution_count": null,
   "metadata": {},
   "outputs": [],
   "source": [
    "reduced_place_df = places_df[['name', 'price', 'address', 'gPlusPlaceId', 'gps']]\n",
    "reduced_place_df.to_parquet('resources/google/places.parquet')\n",
    "reviews_df.to_parquet('resources/google/reviews.parquet')"
   ]
  },
  {
   "cell_type": "markdown",
   "metadata": {},
   "source": [
    "Then we load the data in spark to do some cleaning on the location."
   ]
  },
  {
   "cell_type": "code",
   "execution_count": 5,
   "metadata": {},
   "outputs": [],
   "source": [
    "places = pd.read_parquet('resources/google/places.parquet')"
   ]
  },
  {
   "cell_type": "markdown",
   "metadata": {},
   "source": [
    "The GPS location isn't practical in its current form so we explod it in a latitude and longitude column."
   ]
  },
  {
   "cell_type": "code",
   "execution_count": 6,
   "metadata": {},
   "outputs": [],
   "source": [
    "places = places[places.gps.notnull()]\n",
    "gps_s = places.gps\n",
    "places['lat'] = gps_s.map(lambda x: x[0])\n",
    "places['long'] = gps_s.map(lambda x: x[1])\n",
    "places = places.drop('gps', axis=1)"
   ]
  },
  {
   "cell_type": "markdown",
   "metadata": {},
   "source": [
    "We only keep the places in Chicago using the Chicago geojson."
   ]
  },
  {
   "cell_type": "code",
   "execution_count": 7,
   "metadata": {},
   "outputs": [],
   "source": [
    "from shapely.geometry import shape, Point\n",
    "import json\n",
    "\n",
    "with open('resources/geojsons/chicago-city.geojson') as f0:\n",
    "    chicago_border = json.load(f0)\n",
    "\n",
    "chicago_shape = shape(chicago_border['features'][0]['geometry'])\n",
    "\n",
    "def is_in_chicago(lng_lat):\n",
    "    point = Point(lng_lat[0], lng_lat[1])    \n",
    "    return chicago_shape.contains(point)"
   ]
  },
  {
   "cell_type": "code",
   "execution_count": 8,
   "metadata": {},
   "outputs": [
    {
     "data": {
      "text/html": [
       "<div>\n",
       "<style scoped>\n",
       "    .dataframe tbody tr th:only-of-type {\n",
       "        vertical-align: middle;\n",
       "    }\n",
       "\n",
       "    .dataframe tbody tr th {\n",
       "        vertical-align: top;\n",
       "    }\n",
       "\n",
       "    .dataframe thead th {\n",
       "        text-align: right;\n",
       "    }\n",
       "</style>\n",
       "<table border=\"1\" class=\"dataframe\">\n",
       "  <thead>\n",
       "    <tr style=\"text-align: right;\">\n",
       "      <th></th>\n",
       "      <th>name</th>\n",
       "      <th>price</th>\n",
       "      <th>address</th>\n",
       "      <th>gPlusPlaceId</th>\n",
       "      <th>lat</th>\n",
       "      <th>long</th>\n",
       "    </tr>\n",
       "  </thead>\n",
       "  <tbody>\n",
       "    <tr>\n",
       "      <th>119</th>\n",
       "      <td>Einstein Bros Bagels</td>\n",
       "      <td>$$$</td>\n",
       "      <td>[30 N La Salle St #100e, Chicago, IL 60602]</td>\n",
       "      <td>106913331862145825724</td>\n",
       "      <td>41.882712</td>\n",
       "      <td>-87.632876</td>\n",
       "    </tr>\n",
       "    <tr>\n",
       "      <th>579</th>\n",
       "      <td>Home Inspection Star Inc.</td>\n",
       "      <td>None</td>\n",
       "      <td>[Belmont Cragin, Chicago, IL]</td>\n",
       "      <td>110218752920671431928</td>\n",
       "      <td>41.878113</td>\n",
       "      <td>-87.629798</td>\n",
       "    </tr>\n",
       "    <tr>\n",
       "      <th>721</th>\n",
       "      <td>American Jewelry &amp; Pawn</td>\n",
       "      <td>None</td>\n",
       "      <td>[3216 N Kimball Ave, Chicago, IL 60618]</td>\n",
       "      <td>105748380737912333722</td>\n",
       "      <td>41.939812</td>\n",
       "      <td>-87.712875</td>\n",
       "    </tr>\n",
       "    <tr>\n",
       "      <th>834</th>\n",
       "      <td>Simmons Pro Shop</td>\n",
       "      <td>None</td>\n",
       "      <td>[2147 Irving Park Rd, Chicago, IL 60618]</td>\n",
       "      <td>113127123035046799359</td>\n",
       "      <td>41.953963</td>\n",
       "      <td>-87.683065</td>\n",
       "    </tr>\n",
       "    <tr>\n",
       "      <th>999</th>\n",
       "      <td>Chicago's Home of Chicken &amp; Waffles</td>\n",
       "      <td>$$</td>\n",
       "      <td>[3947 S King Dr, Chicago, IL 60653]</td>\n",
       "      <td>104594164305625743160</td>\n",
       "      <td>41.822511</td>\n",
       "      <td>-87.616570</td>\n",
       "    </tr>\n",
       "  </tbody>\n",
       "</table>\n",
       "</div>"
      ],
      "text/plain": [
       "                                    name price  \\\n",
       "119                 Einstein Bros Bagels   $$$   \n",
       "579            Home Inspection Star Inc.  None   \n",
       "721              American Jewelry & Pawn  None   \n",
       "834                     Simmons Pro Shop  None   \n",
       "999  Chicago's Home of Chicken & Waffles    $$   \n",
       "\n",
       "                                         address           gPlusPlaceId  \\\n",
       "119  [30 N La Salle St #100e, Chicago, IL 60602]  106913331862145825724   \n",
       "579                [Belmont Cragin, Chicago, IL]  110218752920671431928   \n",
       "721      [3216 N Kimball Ave, Chicago, IL 60618]  105748380737912333722   \n",
       "834     [2147 Irving Park Rd, Chicago, IL 60618]  113127123035046799359   \n",
       "999          [3947 S King Dr, Chicago, IL 60653]  104594164305625743160   \n",
       "\n",
       "           lat       long  \n",
       "119  41.882712 -87.632876  \n",
       "579  41.878113 -87.629798  \n",
       "721  41.939812 -87.712875  \n",
       "834  41.953963 -87.683065  \n",
       "999  41.822511 -87.616570  "
      ]
     },
     "execution_count": 8,
     "metadata": {},
     "output_type": "execute_result"
    }
   ],
   "source": [
    "places = places[places[['long', 'lat']].apply(lambda x: is_in_chicago(x), axis=1)]\n",
    "places.head(5)"
   ]
  },
  {
   "cell_type": "markdown",
   "metadata": {},
   "source": [
    "Adding the community/wards/zip codes to have more means of grouping the businesses"
   ]
  },
  {
   "cell_type": "code",
   "execution_count": 9,
   "metadata": {},
   "outputs": [],
   "source": [
    "with open('resources/geojsons/chicago-community.geojson') as f:\n",
    "    communities = json.load(f)\n",
    "    \n",
    "with open('resources/geojsons/chicago-wards.geojson') as f:\n",
    "    wards = json.load(f)\n",
    "\n",
    "with open('resources/geojsons/chicago-zip.geojson') as f:\n",
    "    zips = json.load(f)\n",
    "    \n",
    "def find_border(lng_lat, geojson, property_name):\n",
    "    point = Point(lng_lat[0], lng_lat[1])\n",
    "    for feature in geojson['features']:\n",
    "        polygon = shape(feature['geometry'])\n",
    "        if polygon.contains(point):\n",
    "            return feature['properties'][property_name]\n",
    "    return 'Not found'"
   ]
  },
  {
   "cell_type": "code",
   "execution_count": 10,
   "metadata": {},
   "outputs": [],
   "source": [
    "places['ward'] = places[['long', 'lat']].apply(lambda x: find_border(x, wards, 'ward'), axis=1)\n",
    "places['zip'] = places[['long', 'lat']].apply(lambda x: find_border(x, zips, 'zip'), axis=1)\n",
    "places['community'] = places[['long', 'lat']].apply(lambda x: find_border(x, communities, 'community'), axis=1)"
   ]
  },
  {
   "cell_type": "code",
   "execution_count": 11,
   "metadata": {},
   "outputs": [
    {
     "data": {
      "text/html": [
       "<div>\n",
       "<style scoped>\n",
       "    .dataframe tbody tr th:only-of-type {\n",
       "        vertical-align: middle;\n",
       "    }\n",
       "\n",
       "    .dataframe tbody tr th {\n",
       "        vertical-align: top;\n",
       "    }\n",
       "\n",
       "    .dataframe thead th {\n",
       "        text-align: right;\n",
       "    }\n",
       "</style>\n",
       "<table border=\"1\" class=\"dataframe\">\n",
       "  <thead>\n",
       "    <tr style=\"text-align: right;\">\n",
       "      <th></th>\n",
       "      <th>name</th>\n",
       "      <th>price</th>\n",
       "      <th>address</th>\n",
       "      <th>gPlusPlaceId</th>\n",
       "      <th>lat</th>\n",
       "      <th>long</th>\n",
       "      <th>ward</th>\n",
       "      <th>zip</th>\n",
       "      <th>community</th>\n",
       "    </tr>\n",
       "  </thead>\n",
       "  <tbody>\n",
       "    <tr>\n",
       "      <th>119</th>\n",
       "      <td>Einstein Bros Bagels</td>\n",
       "      <td>$$$</td>\n",
       "      <td>[30 N La Salle St #100e, Chicago, IL 60602]</td>\n",
       "      <td>106913331862145825724</td>\n",
       "      <td>41.882712</td>\n",
       "      <td>-87.632876</td>\n",
       "      <td>42</td>\n",
       "      <td>60602</td>\n",
       "      <td>LOOP</td>\n",
       "    </tr>\n",
       "    <tr>\n",
       "      <th>579</th>\n",
       "      <td>Home Inspection Star Inc.</td>\n",
       "      <td>None</td>\n",
       "      <td>[Belmont Cragin, Chicago, IL]</td>\n",
       "      <td>110218752920671431928</td>\n",
       "      <td>41.878113</td>\n",
       "      <td>-87.629798</td>\n",
       "      <td>4</td>\n",
       "      <td>60604</td>\n",
       "      <td>LOOP</td>\n",
       "    </tr>\n",
       "    <tr>\n",
       "      <th>721</th>\n",
       "      <td>American Jewelry &amp; Pawn</td>\n",
       "      <td>None</td>\n",
       "      <td>[3216 N Kimball Ave, Chicago, IL 60618]</td>\n",
       "      <td>105748380737912333722</td>\n",
       "      <td>41.939812</td>\n",
       "      <td>-87.712875</td>\n",
       "      <td>35</td>\n",
       "      <td>60618</td>\n",
       "      <td>AVONDALE</td>\n",
       "    </tr>\n",
       "    <tr>\n",
       "      <th>834</th>\n",
       "      <td>Simmons Pro Shop</td>\n",
       "      <td>None</td>\n",
       "      <td>[2147 Irving Park Rd, Chicago, IL 60618]</td>\n",
       "      <td>113127123035046799359</td>\n",
       "      <td>41.953963</td>\n",
       "      <td>-87.683065</td>\n",
       "      <td>47</td>\n",
       "      <td>60618</td>\n",
       "      <td>NORTH CENTER</td>\n",
       "    </tr>\n",
       "    <tr>\n",
       "      <th>999</th>\n",
       "      <td>Chicago's Home of Chicken &amp; Waffles</td>\n",
       "      <td>$$</td>\n",
       "      <td>[3947 S King Dr, Chicago, IL 60653]</td>\n",
       "      <td>104594164305625743160</td>\n",
       "      <td>41.822511</td>\n",
       "      <td>-87.616570</td>\n",
       "      <td>3</td>\n",
       "      <td>60653</td>\n",
       "      <td>GRAND BOULEVARD</td>\n",
       "    </tr>\n",
       "  </tbody>\n",
       "</table>\n",
       "</div>"
      ],
      "text/plain": [
       "                                    name price  \\\n",
       "119                 Einstein Bros Bagels   $$$   \n",
       "579            Home Inspection Star Inc.  None   \n",
       "721              American Jewelry & Pawn  None   \n",
       "834                     Simmons Pro Shop  None   \n",
       "999  Chicago's Home of Chicken & Waffles    $$   \n",
       "\n",
       "                                         address           gPlusPlaceId  \\\n",
       "119  [30 N La Salle St #100e, Chicago, IL 60602]  106913331862145825724   \n",
       "579                [Belmont Cragin, Chicago, IL]  110218752920671431928   \n",
       "721      [3216 N Kimball Ave, Chicago, IL 60618]  105748380737912333722   \n",
       "834     [2147 Irving Park Rd, Chicago, IL 60618]  113127123035046799359   \n",
       "999          [3947 S King Dr, Chicago, IL 60653]  104594164305625743160   \n",
       "\n",
       "           lat       long ward    zip        community  \n",
       "119  41.882712 -87.632876   42  60602             LOOP  \n",
       "579  41.878113 -87.629798    4  60604             LOOP  \n",
       "721  41.939812 -87.712875   35  60618         AVONDALE  \n",
       "834  41.953963 -87.683065   47  60618     NORTH CENTER  \n",
       "999  41.822511 -87.616570    3  60653  GRAND BOULEVARD  "
      ]
     },
     "execution_count": 11,
     "metadata": {},
     "output_type": "execute_result"
    }
   ],
   "source": [
    "places.head(5)"
   ]
  },
  {
   "cell_type": "markdown",
   "metadata": {},
   "source": [
    "We clean the price to have a numeric value instead of a string."
   ]
  },
  {
   "cell_type": "code",
   "execution_count": 12,
   "metadata": {},
   "outputs": [
    {
     "data": {
      "text/plain": [
       "$$$    2837\n",
       "$$     2599\n",
       "$       436\n",
       "         56\n",
       "Name: price, dtype: int64"
      ]
     },
     "execution_count": 12,
     "metadata": {},
     "output_type": "execute_result"
    }
   ],
   "source": [
    "places.price.value_counts()"
   ]
  },
  {
   "cell_type": "code",
   "execution_count": 13,
   "metadata": {},
   "outputs": [
    {
     "data": {
      "text/plain": [
       "name               0\n",
       "price           9591\n",
       "address            0\n",
       "gPlusPlaceId       0\n",
       "lat                0\n",
       "long               0\n",
       "ward               0\n",
       "zip                0\n",
       "community          0\n",
       "dtype: int64"
      ]
     },
     "execution_count": 13,
     "metadata": {},
     "output_type": "execute_result"
    }
   ],
   "source": [
    "places.isnull().sum()"
   ]
  },
  {
   "cell_type": "markdown",
   "metadata": {},
   "source": [
    "A lot of places have a null price se we decide to keep them as this."
   ]
  },
  {
   "cell_type": "code",
   "execution_count": 14,
   "metadata": {},
   "outputs": [],
   "source": [
    "price_map = {'$$$': 3, '$$': 2, '$': 1, '': 0, None: None}\n",
    "places.price = places.price.map(lambda x: price_map.get(x))"
   ]
  },
  {
   "cell_type": "code",
   "execution_count": 15,
   "metadata": {},
   "outputs": [
    {
     "data": {
      "text/plain": [
       "3.0    2837\n",
       "2.0    2599\n",
       "1.0     436\n",
       "0.0      56\n",
       "Name: price, dtype: int64"
      ]
     },
     "execution_count": 15,
     "metadata": {},
     "output_type": "execute_result"
    }
   ],
   "source": [
    "places.price.value_counts()"
   ]
  },
  {
   "cell_type": "code",
   "execution_count": 16,
   "metadata": {},
   "outputs": [],
   "source": [
    "places.gPlusPlaceId = places.gPlusPlaceId.astype('str')"
   ]
  },
  {
   "cell_type": "markdown",
   "metadata": {},
   "source": [
    "That's better and easier to manipulate!"
   ]
  },
  {
   "cell_type": "markdown",
   "metadata": {},
   "source": [
    "We will comeback later to this dataset to ensure we only have restaurants/grocery stores."
   ]
  },
  {
   "cell_type": "markdown",
   "metadata": {},
   "source": [
    "### Cleaning the reviews dataset"
   ]
  },
  {
   "cell_type": "markdown",
   "metadata": {},
   "source": [
    "We will remove all reviews rating a business out of Chicago."
   ]
  },
  {
   "cell_type": "code",
   "execution_count": 17,
   "metadata": {},
   "outputs": [
    {
     "data": {
      "text/plain": [
       "rating            11453845\n",
       "reviewerName      11453845\n",
       "reviewText         7920730\n",
       "categories        10487697\n",
       "gPlusPlaceId      11453845\n",
       "unixReviewTime    10601852\n",
       "reviewTime        10601852\n",
       "gPlusUserId       11453845\n",
       "dtype: int64"
      ]
     },
     "execution_count": 17,
     "metadata": {},
     "output_type": "execute_result"
    }
   ],
   "source": [
    "reviews = pd.read_parquet('resources/google/reviews.parquet')\n",
    "reviews.count()"
   ]
  },
  {
   "cell_type": "code",
   "execution_count": 18,
   "metadata": {},
   "outputs": [
    {
     "data": {
      "text/html": [
       "<div>\n",
       "<style scoped>\n",
       "    .dataframe tbody tr th:only-of-type {\n",
       "        vertical-align: middle;\n",
       "    }\n",
       "\n",
       "    .dataframe tbody tr th {\n",
       "        vertical-align: top;\n",
       "    }\n",
       "\n",
       "    .dataframe thead th {\n",
       "        text-align: right;\n",
       "    }\n",
       "</style>\n",
       "<table border=\"1\" class=\"dataframe\">\n",
       "  <thead>\n",
       "    <tr style=\"text-align: right;\">\n",
       "      <th></th>\n",
       "      <th>rating</th>\n",
       "      <th>reviewText</th>\n",
       "      <th>gPlusPlaceId</th>\n",
       "      <th>reviewTime</th>\n",
       "      <th>gPlusUserId</th>\n",
       "      <th>categories</th>\n",
       "    </tr>\n",
       "  </thead>\n",
       "  <tbody>\n",
       "    <tr>\n",
       "      <th>0</th>\n",
       "      <td>3.0</td>\n",
       "      <td>Chất lượng tạm ổn</td>\n",
       "      <td>108103314380004200232</td>\n",
       "      <td>Jul 1, 2013</td>\n",
       "      <td>100000010817154263736</td>\n",
       "      <td>[Giải Trí - Café]</td>\n",
       "    </tr>\n",
       "    <tr>\n",
       "      <th>1</th>\n",
       "      <td>5.0</td>\n",
       "      <td>Wc si temiz duzenli..</td>\n",
       "      <td>102194128241608748649</td>\n",
       "      <td>Jul 21, 2012</td>\n",
       "      <td>100000013500285534661</td>\n",
       "      <td>[Turkish Cuisine]</td>\n",
       "    </tr>\n",
       "    <tr>\n",
       "      <th>2</th>\n",
       "      <td>5.0</td>\n",
       "      <td>何回も私は予定に休みがセルバに行ったので覚えて見て、分かります❗</td>\n",
       "      <td>101409858828175402384</td>\n",
       "      <td>Jan 25, 2014</td>\n",
       "      <td>100000021336848867366</td>\n",
       "      <td>[Fishing, Pond Fish Supplier, Seafood Market]</td>\n",
       "    </tr>\n",
       "  </tbody>\n",
       "</table>\n",
       "</div>"
      ],
      "text/plain": [
       "   rating                        reviewText           gPlusPlaceId  \\\n",
       "0     3.0                 Chất lượng tạm ổn  108103314380004200232   \n",
       "1     5.0             Wc si temiz duzenli..  102194128241608748649   \n",
       "2     5.0  何回も私は予定に休みがセルバに行ったので覚えて見て、分かります❗  101409858828175402384   \n",
       "\n",
       "     reviewTime            gPlusUserId  \\\n",
       "0   Jul 1, 2013  100000010817154263736   \n",
       "1  Jul 21, 2012  100000013500285534661   \n",
       "2  Jan 25, 2014  100000021336848867366   \n",
       "\n",
       "                                      categories  \n",
       "0                              [Giải Trí - Café]  \n",
       "1                              [Turkish Cuisine]  \n",
       "2  [Fishing, Pond Fish Supplier, Seafood Market]  "
      ]
     },
     "execution_count": 18,
     "metadata": {},
     "output_type": "execute_result"
    }
   ],
   "source": [
    "reviews = reviews[['rating', 'reviewText', 'gPlusPlaceId', 'reviewTime', 'gPlusUserId', 'categories']]\n",
    "reviews.head(3)"
   ]
  },
  {
   "cell_type": "code",
   "execution_count": 19,
   "metadata": {},
   "outputs": [
    {
     "data": {
      "text/plain": [
       "rating          116083\n",
       "reviewText       92438\n",
       "gPlusPlaceId    116083\n",
       "reviewTime      109427\n",
       "gPlusUserId     116083\n",
       "categories      109101\n",
       "dtype: int64"
      ]
     },
     "execution_count": 19,
     "metadata": {},
     "output_type": "execute_result"
    }
   ],
   "source": [
    "chicago_gPlusPlaceIds = places.gPlusPlaceId\n",
    "reviews.gPlusPlaceId = reviews.gPlusPlaceId.astype('str')\n",
    "reviews = reviews[reviews.gPlusPlaceId.isin(chicago_gPlusPlaceIds)]\n",
    "reviews.count()"
   ]
  },
  {
   "cell_type": "markdown",
   "metadata": {},
   "source": [
    "Doing this removed about 99% our our dataset but 100000 reviews may be enough to perform analysis.  \n",
    "We want to see the time distribution to be sure it matches our food inspection dataset."
   ]
  },
  {
   "cell_type": "code",
   "execution_count": 20,
   "metadata": {},
   "outputs": [],
   "source": [
    "reviews = reviews[reviews.reviewTime.notnull()]\n",
    "reviews.reviewTime = pd.to_datetime(reviews.reviewTime)"
   ]
  },
  {
   "cell_type": "code",
   "execution_count": 21,
   "metadata": {},
   "outputs": [
    {
     "name": "stdout",
     "output_type": "stream",
     "text": [
      "Earliest time: 1990-12-30 00:00:00\n",
      "Furthest time: 2014-03-28 00:00:00\n"
     ]
    }
   ],
   "source": [
    "min_time = reviews.reviewTime.min()\n",
    "max_time = reviews.reviewTime.min()\n",
    "print('Earliest time: {}'.format(reviews.reviewTime.min()))\n",
    "print('Furthest time: {}'.format(reviews.reviewTime.max()))"
   ]
  },
  {
   "cell_type": "code",
   "execution_count": 22,
   "metadata": {},
   "outputs": [
    {
     "data": {
      "text/plain": [
       "<BarContainer object of 15 artists>"
      ]
     },
     "execution_count": 22,
     "metadata": {},
     "output_type": "execute_result"
    },
    {
     "data": {
      "image/png": "[encoded data removed]",
      "text/plain": [
       "<Figure size 432x288 with 1 Axes>"
      ]
     },
     "metadata": {
      "needs_background": "light"
     },
     "output_type": "display_data"
    }
   ],
   "source": [
    "years = reviews.reviewTime.map(lambda x: x.year).value_counts()\n",
    "plt.bar(x=years.index, height=years.values)"
   ]
  },
  {
   "cell_type": "markdown",
   "metadata": {},
   "source": [
    "We have a lot more more reviews in 2011 to 2014 we a huge peak in 2013.  \n",
    "It may be interesting to only focus on these years."
   ]
  },
  {
   "cell_type": "code",
   "execution_count": 23,
   "metadata": {},
   "outputs": [],
   "source": [
    "reviews = reviews[reviews.reviewTime.map(lambda x: x.year).isin(range(2011,2015))]"
   ]
  },
  {
   "cell_type": "code",
   "execution_count": 24,
   "metadata": {},
   "outputs": [
    {
     "data": {
      "text/plain": [
       "rating                 float64\n",
       "reviewText              object\n",
       "gPlusPlaceId            object\n",
       "reviewTime      datetime64[ns]\n",
       "gPlusUserId             object\n",
       "categories              object\n",
       "dtype: object"
      ]
     },
     "execution_count": 24,
     "metadata": {},
     "output_type": "execute_result"
    }
   ],
   "source": [
    "reviews.dtypes"
   ]
  },
  {
   "cell_type": "markdown",
   "metadata": {},
   "source": [
    "Saving the wole thing to avoid recomputing."
   ]
  },
  {
   "cell_type": "code",
   "execution_count": 25,
   "metadata": {},
   "outputs": [],
   "source": [
    "places.to_parquet('resources/google/places_clean.parquet')\n",
    "reviews.to_parquet('resources/google/reviews_clean.parquet')"
   ]
  },
  {
   "cell_type": "markdown",
   "metadata": {},
   "source": [
    "# Comparing inspection fail rate and average google rating by ward  \n",
    "We want to see if there may be a correlation between user ratings and food inspection result.  \n",
    "What's the rating difference between a high pass ward and a ward with a high fail rate?"
   ]
  },
  {
   "cell_type": "code",
   "execution_count": 105,
   "metadata": {},
   "outputs": [],
   "source": [
    "places = pd.read_parquet('resources/google/places_clean.parquet')\n",
    "reviews = pd.read_parquet('resources/google/reviews_clean.parquet')\n",
    "inspections = pd.read_parquet('resources/extended_dataset.parquet')"
   ]
  },
  {
   "cell_type": "markdown",
   "metadata": {},
   "source": [
    "First we want to compute the average score of a business from the Google dataset."
   ]
  },
  {
   "cell_type": "code",
   "execution_count": 106,
   "metadata": {},
   "outputs": [],
   "source": [
    "places.gPlusPlaceId = places.gPlusPlaceId.astype('str')\n",
    "reviews.gPlusPlaceId = reviews.gPlusPlaceId.astype('str')"
   ]
  },
  {
   "cell_type": "code",
   "execution_count": 107,
   "metadata": {},
   "outputs": [],
   "source": [
    "med_ratings = reviews[['gPlusPlaceId', 'rating']].groupby(by='gPlusPlaceId').median().rename(columns={'rating': 'med_rating'}).reset_index()\n",
    "avg_ratings = reviews[['gPlusPlaceId', 'rating']].groupby(by='gPlusPlaceId').mean().rename(columns={'rating': 'avg_rating'}).reset_index()"
   ]
  },
  {
   "cell_type": "code",
   "execution_count": 108,
   "metadata": {},
   "outputs": [],
   "source": [
    "ratings = places.merge(med_ratings, left_on='gPlusPlaceId', right_on='gPlusPlaceId')\n",
    "ratings = ratings.merge(avg_ratings, left_on='gPlusPlaceId', right_on='gPlusPlaceId')"
   ]
  },
  {
   "cell_type": "code",
   "execution_count": 109,
   "metadata": {},
   "outputs": [
    {
     "data": {
      "text/html": [
       "<div>\n",
       "<style scoped>\n",
       "    .dataframe tbody tr th:only-of-type {\n",
       "        vertical-align: middle;\n",
       "    }\n",
       "\n",
       "    .dataframe tbody tr th {\n",
       "        vertical-align: top;\n",
       "    }\n",
       "\n",
       "    .dataframe thead th {\n",
       "        text-align: right;\n",
       "    }\n",
       "</style>\n",
       "<table border=\"1\" class=\"dataframe\">\n",
       "  <thead>\n",
       "    <tr style=\"text-align: right;\">\n",
       "      <th></th>\n",
       "      <th>med_rating</th>\n",
       "      <th>avg_rating</th>\n",
       "    </tr>\n",
       "    <tr>\n",
       "      <th>ward</th>\n",
       "      <th></th>\n",
       "      <th></th>\n",
       "    </tr>\n",
       "  </thead>\n",
       "  <tbody>\n",
       "    <tr>\n",
       "      <th>1</th>\n",
       "      <td>4.247438</td>\n",
       "      <td>4.156468</td>\n",
       "    </tr>\n",
       "    <tr>\n",
       "      <th>10</th>\n",
       "      <td>3.821970</td>\n",
       "      <td>3.755748</td>\n",
       "    </tr>\n",
       "    <tr>\n",
       "      <th>11</th>\n",
       "      <td>4.176259</td>\n",
       "      <td>4.073104</td>\n",
       "    </tr>\n",
       "    <tr>\n",
       "      <th>12</th>\n",
       "      <td>3.904321</td>\n",
       "      <td>3.836449</td>\n",
       "    </tr>\n",
       "    <tr>\n",
       "      <th>13</th>\n",
       "      <td>4.030000</td>\n",
       "      <td>3.949823</td>\n",
       "    </tr>\n",
       "  </tbody>\n",
       "</table>\n",
       "</div>"
      ],
      "text/plain": [
       "      med_rating  avg_rating\n",
       "ward                        \n",
       "1       4.247438    4.156468\n",
       "10      3.821970    3.755748\n",
       "11      4.176259    4.073104\n",
       "12      3.904321    3.836449\n",
       "13      4.030000    3.949823"
      ]
     },
     "execution_count": 109,
     "metadata": {},
     "output_type": "execute_result"
    }
   ],
   "source": [
    "ward_google_ratings = ratings[['ward', 'med_rating', 'avg_rating']].groupby(by='ward').mean()\n",
    "ward_google_ratings.head(5)"
   ]
  },
  {
   "cell_type": "markdown",
   "metadata": {},
   "source": [
    "And then the average pass/fail/... rating of inspections.  \n",
    "Note that we need first to reduce the time range as the Chicago dataset is more spread out compared to the Google one.  "
   ]
  },
  {
   "cell_type": "code",
   "execution_count": 110,
   "metadata": {},
   "outputs": [
    {
     "name": "stdout",
     "output_type": "stream",
     "text": [
      "We will range between 2011-01-01 00:00:00 and 2014-03-28 00:00:00\n"
     ]
    }
   ],
   "source": [
    "min_date = reviews['reviewTime'].min()\n",
    "max_date = reviews['reviewTime'].max()\n",
    "print('We will range between {} and {}'.format(min_date, max_date))\n",
    "inspections_in_time_range = inspections[(inspections['Inspection Date'] > min_date) & (inspections['Inspection Date'] < max_date)]"
   ]
  },
  {
   "cell_type": "code",
   "execution_count": 111,
   "metadata": {},
   "outputs": [],
   "source": [
    "only_inspections = inspections_in_time_range.copy()[~inspections_in_time_range['Re-inspection']][['Ward', 'Results']].rename(columns={'Ward': 'ward', 'Results': 'result'})\n",
    "result_map = {'Pass': 'pass', 'Fail': 'fail', 'Pass w/ Conditions': 'pass_cond', 'Out of Business': 'oob', 'No Entry': 'no_entry'}\n",
    "\n",
    "for key in result_map.keys():\n",
    "    only_inspections[result_map.get(key)] = only_inspections.result == key\n",
    "    \n",
    "only_inspections = only_inspections.drop('result', axis=1)"
   ]
  },
  {
   "cell_type": "markdown",
   "metadata": {},
   "source": [
    "We create all the usefull pass/fail rate statistics for each ward."
   ]
  },
  {
   "cell_type": "code",
   "execution_count": 112,
   "metadata": {},
   "outputs": [
    {
     "data": {
      "text/html": [
       "<div>\n",
       "<style scoped>\n",
       "    .dataframe tbody tr th:only-of-type {\n",
       "        vertical-align: middle;\n",
       "    }\n",
       "\n",
       "    .dataframe tbody tr th {\n",
       "        vertical-align: top;\n",
       "    }\n",
       "\n",
       "    .dataframe thead th {\n",
       "        text-align: right;\n",
       "    }\n",
       "</style>\n",
       "<table border=\"1\" class=\"dataframe\">\n",
       "  <thead>\n",
       "    <tr style=\"text-align: right;\">\n",
       "      <th></th>\n",
       "      <th>pass</th>\n",
       "      <th>fail</th>\n",
       "      <th>pass_cond</th>\n",
       "      <th>oob</th>\n",
       "      <th>no_entry</th>\n",
       "    </tr>\n",
       "    <tr>\n",
       "      <th>ward</th>\n",
       "      <th></th>\n",
       "      <th></th>\n",
       "      <th></th>\n",
       "      <th></th>\n",
       "      <th></th>\n",
       "    </tr>\n",
       "  </thead>\n",
       "  <tbody>\n",
       "    <tr>\n",
       "      <th>1</th>\n",
       "      <td>0.491061</td>\n",
       "      <td>0.266389</td>\n",
       "      <td>0.079261</td>\n",
       "      <td>0.131108</td>\n",
       "      <td>0.032181</td>\n",
       "    </tr>\n",
       "    <tr>\n",
       "      <th>10</th>\n",
       "      <td>0.507132</td>\n",
       "      <td>0.223455</td>\n",
       "      <td>0.085578</td>\n",
       "      <td>0.126783</td>\n",
       "      <td>0.050713</td>\n",
       "    </tr>\n",
       "    <tr>\n",
       "      <th>11</th>\n",
       "      <td>0.613707</td>\n",
       "      <td>0.194185</td>\n",
       "      <td>0.069574</td>\n",
       "      <td>0.107996</td>\n",
       "      <td>0.014538</td>\n",
       "    </tr>\n",
       "    <tr>\n",
       "      <th>12</th>\n",
       "      <td>0.565976</td>\n",
       "      <td>0.243184</td>\n",
       "      <td>0.057797</td>\n",
       "      <td>0.114504</td>\n",
       "      <td>0.018539</td>\n",
       "    </tr>\n",
       "    <tr>\n",
       "      <th>13</th>\n",
       "      <td>0.654397</td>\n",
       "      <td>0.173824</td>\n",
       "      <td>0.067485</td>\n",
       "      <td>0.098160</td>\n",
       "      <td>0.006135</td>\n",
       "    </tr>\n",
       "  </tbody>\n",
       "</table>\n",
       "</div>"
      ],
      "text/plain": [
       "          pass      fail  pass_cond       oob  no_entry\n",
       "ward                                                   \n",
       "1     0.491061  0.266389   0.079261  0.131108  0.032181\n",
       "10    0.507132  0.223455   0.085578  0.126783  0.050713\n",
       "11    0.613707  0.194185   0.069574  0.107996  0.014538\n",
       "12    0.565976  0.243184   0.057797  0.114504  0.018539\n",
       "13    0.654397  0.173824   0.067485  0.098160  0.006135"
      ]
     },
     "execution_count": 112,
     "metadata": {},
     "output_type": "execute_result"
    }
   ],
   "source": [
    "ward_inspection_ratings = only_inspections.groupby(by='ward').mean()\n",
    "ward_inspection_ratings.head(5)"
   ]
  },
  {
   "cell_type": "code",
   "execution_count": 113,
   "metadata": {},
   "outputs": [
    {
     "data": {
      "text/html": [
       "<div>\n",
       "<style scoped>\n",
       "    .dataframe tbody tr th:only-of-type {\n",
       "        vertical-align: middle;\n",
       "    }\n",
       "\n",
       "    .dataframe tbody tr th {\n",
       "        vertical-align: top;\n",
       "    }\n",
       "\n",
       "    .dataframe thead th {\n",
       "        text-align: right;\n",
       "    }\n",
       "</style>\n",
       "<table border=\"1\" class=\"dataframe\">\n",
       "  <thead>\n",
       "    <tr style=\"text-align: right;\">\n",
       "      <th></th>\n",
       "      <th>pass</th>\n",
       "      <th>fail</th>\n",
       "      <th>pass_cond</th>\n",
       "      <th>oob</th>\n",
       "      <th>no_entry</th>\n",
       "      <th>med_rating</th>\n",
       "      <th>avg_rating</th>\n",
       "    </tr>\n",
       "  </thead>\n",
       "  <tbody>\n",
       "    <tr>\n",
       "      <th>pass</th>\n",
       "      <td>1.000000</td>\n",
       "      <td>-0.701128</td>\n",
       "      <td>-0.571188</td>\n",
       "      <td>-0.624394</td>\n",
       "      <td>0.004754</td>\n",
       "      <td>-0.045282</td>\n",
       "      <td>-0.051717</td>\n",
       "    </tr>\n",
       "    <tr>\n",
       "      <th>fail</th>\n",
       "      <td>-0.701128</td>\n",
       "      <td>1.000000</td>\n",
       "      <td>0.164466</td>\n",
       "      <td>0.150156</td>\n",
       "      <td>-0.239376</td>\n",
       "      <td>-0.315438</td>\n",
       "      <td>-0.297383</td>\n",
       "    </tr>\n",
       "    <tr>\n",
       "      <th>pass_cond</th>\n",
       "      <td>-0.571188</td>\n",
       "      <td>0.164466</td>\n",
       "      <td>1.000000</td>\n",
       "      <td>0.124994</td>\n",
       "      <td>-0.070636</td>\n",
       "      <td>0.356447</td>\n",
       "      <td>0.349148</td>\n",
       "    </tr>\n",
       "    <tr>\n",
       "      <th>oob</th>\n",
       "      <td>-0.624394</td>\n",
       "      <td>0.150156</td>\n",
       "      <td>0.124994</td>\n",
       "      <td>1.000000</td>\n",
       "      <td>0.142569</td>\n",
       "      <td>0.066699</td>\n",
       "      <td>0.059880</td>\n",
       "    </tr>\n",
       "    <tr>\n",
       "      <th>no_entry</th>\n",
       "      <td>0.004754</td>\n",
       "      <td>-0.239376</td>\n",
       "      <td>-0.070636</td>\n",
       "      <td>0.142569</td>\n",
       "      <td>1.000000</td>\n",
       "      <td>0.241969</td>\n",
       "      <td>0.255990</td>\n",
       "    </tr>\n",
       "    <tr>\n",
       "      <th>med_rating</th>\n",
       "      <td>-0.045282</td>\n",
       "      <td>-0.315438</td>\n",
       "      <td>0.356447</td>\n",
       "      <td>0.066699</td>\n",
       "      <td>0.241969</td>\n",
       "      <td>1.000000</td>\n",
       "      <td>0.992989</td>\n",
       "    </tr>\n",
       "    <tr>\n",
       "      <th>avg_rating</th>\n",
       "      <td>-0.051717</td>\n",
       "      <td>-0.297383</td>\n",
       "      <td>0.349148</td>\n",
       "      <td>0.059880</td>\n",
       "      <td>0.255990</td>\n",
       "      <td>0.992989</td>\n",
       "      <td>1.000000</td>\n",
       "    </tr>\n",
       "  </tbody>\n",
       "</table>\n",
       "</div>"
      ],
      "text/plain": [
       "                pass      fail  pass_cond       oob  no_entry  med_rating  \\\n",
       "pass        1.000000 -0.701128  -0.571188 -0.624394  0.004754   -0.045282   \n",
       "fail       -0.701128  1.000000   0.164466  0.150156 -0.239376   -0.315438   \n",
       "pass_cond  -0.571188  0.164466   1.000000  0.124994 -0.070636    0.356447   \n",
       "oob        -0.624394  0.150156   0.124994  1.000000  0.142569    0.066699   \n",
       "no_entry    0.004754 -0.239376  -0.070636  0.142569  1.000000    0.241969   \n",
       "med_rating -0.045282 -0.315438   0.356447  0.066699  0.241969    1.000000   \n",
       "avg_rating -0.051717 -0.297383   0.349148  0.059880  0.255990    0.992989   \n",
       "\n",
       "            avg_rating  \n",
       "pass         -0.051717  \n",
       "fail         -0.297383  \n",
       "pass_cond     0.349148  \n",
       "oob           0.059880  \n",
       "no_entry      0.255990  \n",
       "med_rating    0.992989  \n",
       "avg_rating    1.000000  "
      ]
     },
     "execution_count": 113,
     "metadata": {},
     "output_type": "execute_result"
    }
   ],
   "source": [
    "merged_ratings = ward_inspection_ratings.merge(ward_google_ratings, on='ward')\n",
    "merged_ratings.corr('spearman')"
   ]
  },
  {
   "cell_type": "markdown",
   "metadata": {},
   "source": [
    "Interestingly, we observe a small negative correlation between the google rating and the inspection fail rate while there is no correlation between having a good goole rate and a passing an inspection.  \n",
    "It shows that places failing the inspections are also often the ones being badly rated. Maybe the cause of the bad rate may come from the badly kept restaurant."
   ]
  },
  {
   "cell_type": "markdown",
   "metadata": {},
   "source": [
    "## Finding chicago food places and their reviews in the google dataset"
   ]
  },
  {
   "cell_type": "code",
   "execution_count": 114,
   "metadata": {},
   "outputs": [],
   "source": [
    "inspections_pos = inspections[['Latitude', 'Longitude']].apply(lambda x: \"{0:.4f} {1:.4f}\".format(x[0], x[1]), axis=1).unique()\n",
    "places_pos = places[['lat', 'long']].apply(lambda x: \"{0:.4f} {1:.4f}\".format(x[0], x[1]), axis=1).unique()"
   ]
  },
  {
   "cell_type": "code",
   "execution_count": 115,
   "metadata": {},
   "outputs": [
    {
     "name": "stdout",
     "output_type": "stream",
     "text": [
      "16284\n",
      "14051\n"
     ]
    }
   ],
   "source": [
    "print(inspections_pos.size)\n",
    "print(places_pos.size)"
   ]
  },
  {
   "cell_type": "code",
   "execution_count": 116,
   "metadata": {},
   "outputs": [
    {
     "data": {
      "text/plain": [
       "1818"
      ]
     },
     "execution_count": 116,
     "metadata": {},
     "output_type": "execute_result"
    }
   ],
   "source": [
    "intersection_pos = set(places_pos).intersection(set(inspections_pos))\n",
    "len(intersection_pos)"
   ]
  },
  {
   "cell_type": "markdown",
   "metadata": {},
   "source": [
    "If we round the latitude/longitude to only 4 decimals (100m precision), we find 1818 common locations.  \n",
    "We will use these to see if there is a correlation by restaurant instead of by ward/community."
   ]
  },
  {
   "cell_type": "code",
   "execution_count": 117,
   "metadata": {},
   "outputs": [
    {
     "data": {
      "text/html": [
       "<div>\n",
       "<style scoped>\n",
       "    .dataframe tbody tr th:only-of-type {\n",
       "        vertical-align: middle;\n",
       "    }\n",
       "\n",
       "    .dataframe tbody tr th {\n",
       "        vertical-align: top;\n",
       "    }\n",
       "\n",
       "    .dataframe thead th {\n",
       "        text-align: right;\n",
       "    }\n",
       "</style>\n",
       "<table border=\"1\" class=\"dataframe\">\n",
       "  <thead>\n",
       "    <tr style=\"text-align: right;\">\n",
       "      <th></th>\n",
       "      <th>name</th>\n",
       "      <th>price</th>\n",
       "      <th>address</th>\n",
       "      <th>gPlusPlaceId</th>\n",
       "      <th>lat</th>\n",
       "      <th>long</th>\n",
       "      <th>ward</th>\n",
       "      <th>zip</th>\n",
       "      <th>community</th>\n",
       "      <th>gps</th>\n",
       "    </tr>\n",
       "  </thead>\n",
       "  <tbody>\n",
       "    <tr>\n",
       "      <th>579</th>\n",
       "      <td>Home Inspection Star Inc.</td>\n",
       "      <td>NaN</td>\n",
       "      <td>[Belmont Cragin, Chicago, IL]</td>\n",
       "      <td>110218752920671431928</td>\n",
       "      <td>41.878113</td>\n",
       "      <td>-87.629798</td>\n",
       "      <td>4</td>\n",
       "      <td>60604</td>\n",
       "      <td>LOOP</td>\n",
       "      <td>41.8781 -87.6298</td>\n",
       "    </tr>\n",
       "    <tr>\n",
       "      <th>4262</th>\n",
       "      <td>Number 1 Chop Suey</td>\n",
       "      <td>3.0</td>\n",
       "      <td>[4307 W Irving Park Rd, Chicago, IL 60641]</td>\n",
       "      <td>115699310654267306421</td>\n",
       "      <td>41.953411</td>\n",
       "      <td>-87.735982</td>\n",
       "      <td>45</td>\n",
       "      <td>60641</td>\n",
       "      <td>IRVING PARK</td>\n",
       "      <td>41.9534 -87.7360</td>\n",
       "    </tr>\n",
       "    <tr>\n",
       "      <th>7614</th>\n",
       "      <td>China Phoenix Restaurant</td>\n",
       "      <td>NaN</td>\n",
       "      <td>[2459 W Madison St, Chicago, IL 60612]</td>\n",
       "      <td>118150923611903564108</td>\n",
       "      <td>41.881035</td>\n",
       "      <td>-87.688732</td>\n",
       "      <td>27</td>\n",
       "      <td>60612</td>\n",
       "      <td>NEAR WEST SIDE</td>\n",
       "      <td>41.8810 -87.6887</td>\n",
       "    </tr>\n",
       "    <tr>\n",
       "      <th>12432</th>\n",
       "      <td>Hon Kee Restaurant</td>\n",
       "      <td>2.0</td>\n",
       "      <td>[1064 W Argyle St, Chicago, IL 60640]</td>\n",
       "      <td>105951989958300540067</td>\n",
       "      <td>41.973358</td>\n",
       "      <td>-87.657391</td>\n",
       "      <td>48</td>\n",
       "      <td>60640</td>\n",
       "      <td>UPTOWN</td>\n",
       "      <td>41.9734 -87.6574</td>\n",
       "    </tr>\n",
       "    <tr>\n",
       "      <th>14775</th>\n",
       "      <td>Sport Clips Chicago- Wrigley</td>\n",
       "      <td>NaN</td>\n",
       "      <td>[3452 N Clark St, Chicago, IL 60657]</td>\n",
       "      <td>109393307658739866852</td>\n",
       "      <td>41.944864</td>\n",
       "      <td>-87.654852</td>\n",
       "      <td>44</td>\n",
       "      <td>60657</td>\n",
       "      <td>LAKE VIEW</td>\n",
       "      <td>41.9449 -87.6549</td>\n",
       "    </tr>\n",
       "  </tbody>\n",
       "</table>\n",
       "</div>"
      ],
      "text/plain": [
       "                               name  price  \\\n",
       "579       Home Inspection Star Inc.    NaN   \n",
       "4262             Number 1 Chop Suey    3.0   \n",
       "7614       China Phoenix Restaurant    NaN   \n",
       "12432            Hon Kee Restaurant    2.0   \n",
       "14775  Sport Clips Chicago- Wrigley    NaN   \n",
       "\n",
       "                                          address           gPlusPlaceId  \\\n",
       "579                 [Belmont Cragin, Chicago, IL]  110218752920671431928   \n",
       "4262   [4307 W Irving Park Rd, Chicago, IL 60641]  115699310654267306421   \n",
       "7614       [2459 W Madison St, Chicago, IL 60612]  118150923611903564108   \n",
       "12432       [1064 W Argyle St, Chicago, IL 60640]  105951989958300540067   \n",
       "14775        [3452 N Clark St, Chicago, IL 60657]  109393307658739866852   \n",
       "\n",
       "             lat       long ward    zip       community               gps  \n",
       "579    41.878113 -87.629798    4  60604            LOOP  41.8781 -87.6298  \n",
       "4262   41.953411 -87.735982   45  60641     IRVING PARK  41.9534 -87.7360  \n",
       "7614   41.881035 -87.688732   27  60612  NEAR WEST SIDE  41.8810 -87.6887  \n",
       "12432  41.973358 -87.657391   48  60640          UPTOWN  41.9734 -87.6574  \n",
       "14775  41.944864 -87.654852   44  60657       LAKE VIEW  41.9449 -87.6549  "
      ]
     },
     "execution_count": 117,
     "metadata": {},
     "output_type": "execute_result"
    }
   ],
   "source": [
    "places_common = places.copy()\n",
    "places_common['gps'] = places[['lat', 'long']].apply(lambda x: \"{0:.4f} {1:.4f}\".format(x[0], x[1]), axis=1)\n",
    "places_common = places_common[places_common.gps.isin(intersection_pos)]\n",
    "places_common.head()"
   ]
  },
  {
   "cell_type": "code",
   "execution_count": 118,
   "metadata": {},
   "outputs": [
    {
     "data": {
      "text/html": [
       "<div>\n",
       "<style scoped>\n",
       "    .dataframe tbody tr th:only-of-type {\n",
       "        vertical-align: middle;\n",
       "    }\n",
       "\n",
       "    .dataframe tbody tr th {\n",
       "        vertical-align: top;\n",
       "    }\n",
       "\n",
       "    .dataframe thead th {\n",
       "        text-align: right;\n",
       "    }\n",
       "</style>\n",
       "<table border=\"1\" class=\"dataframe\">\n",
       "  <thead>\n",
       "    <tr style=\"text-align: right;\">\n",
       "      <th></th>\n",
       "      <th>gps</th>\n",
       "      <th>avg_rating</th>\n",
       "    </tr>\n",
       "  </thead>\n",
       "  <tbody>\n",
       "    <tr>\n",
       "      <th>0</th>\n",
       "      <td>41.8781 -87.6298</td>\n",
       "      <td>5.000000</td>\n",
       "    </tr>\n",
       "    <tr>\n",
       "      <th>1</th>\n",
       "      <td>41.9534 -87.7360</td>\n",
       "      <td>4.000000</td>\n",
       "    </tr>\n",
       "    <tr>\n",
       "      <th>2</th>\n",
       "      <td>41.8810 -87.6887</td>\n",
       "      <td>4.000000</td>\n",
       "    </tr>\n",
       "    <tr>\n",
       "      <th>3</th>\n",
       "      <td>41.9734 -87.6574</td>\n",
       "      <td>4.200000</td>\n",
       "    </tr>\n",
       "    <tr>\n",
       "      <th>4</th>\n",
       "      <td>41.9449 -87.6549</td>\n",
       "      <td>3.833333</td>\n",
       "    </tr>\n",
       "  </tbody>\n",
       "</table>\n",
       "</div>"
      ],
      "text/plain": [
       "                gps  avg_rating\n",
       "0  41.8781 -87.6298    5.000000\n",
       "1  41.9534 -87.7360    4.000000\n",
       "2  41.8810 -87.6887    4.000000\n",
       "3  41.9734 -87.6574    4.200000\n",
       "4  41.9449 -87.6549    3.833333"
      ]
     },
     "execution_count": 118,
     "metadata": {},
     "output_type": "execute_result"
    }
   ],
   "source": [
    "places_ids = places_common.gPlusPlaceId\n",
    "filtered_ratings = reviews[reviews.gPlusPlaceId.isin(places_ids)][['gPlusPlaceId', 'rating']].groupby(by='gPlusPlaceId').mean().rename(columns={'rating': 'avg_rating'}).reset_index()\n",
    "location_ratings = places_common.merge(filtered_ratings, left_on='gPlusPlaceId', right_on='gPlusPlaceId')\n",
    "location_ratings = location_ratings.drop(['name', 'lat', 'long', 'zip', 'community', 'address', 'gPlusPlaceId', 'ward', 'price'], axis=1)\n",
    "location_ratings.head()"
   ]
  },
  {
   "cell_type": "code",
   "execution_count": 119,
   "metadata": {},
   "outputs": [
    {
     "data": {
      "text/html": [
       "<div>\n",
       "<style scoped>\n",
       "    .dataframe tbody tr th:only-of-type {\n",
       "        vertical-align: middle;\n",
       "    }\n",
       "\n",
       "    .dataframe tbody tr th {\n",
       "        vertical-align: top;\n",
       "    }\n",
       "\n",
       "    .dataframe thead th {\n",
       "        text-align: right;\n",
       "    }\n",
       "</style>\n",
       "<table border=\"1\" class=\"dataframe\">\n",
       "  <thead>\n",
       "    <tr style=\"text-align: right;\">\n",
       "      <th></th>\n",
       "      <th>DBA Name</th>\n",
       "      <th>Facility Type</th>\n",
       "      <th>Risk</th>\n",
       "      <th>Inspection Date</th>\n",
       "      <th>Inspection Type</th>\n",
       "      <th>Re-inspection</th>\n",
       "      <th>Ward</th>\n",
       "      <th>Violation IDs</th>\n",
       "      <th>Nb Violations</th>\n",
       "      <th>Nb Violations of high severity</th>\n",
       "      <th>Nb Violations of medium severity</th>\n",
       "      <th>Nb Violations of low severity</th>\n",
       "      <th>gps</th>\n",
       "      <th>pass</th>\n",
       "      <th>fail</th>\n",
       "      <th>pass_cond</th>\n",
       "      <th>oob</th>\n",
       "      <th>no_entry</th>\n",
       "    </tr>\n",
       "  </thead>\n",
       "  <tbody>\n",
       "    <tr>\n",
       "      <th>113921</th>\n",
       "      <td>BJ'S MARKET &amp; BAKERY</td>\n",
       "      <td>Restaurant</td>\n",
       "      <td>High</td>\n",
       "      <td>2014-03-27</td>\n",
       "      <td>Complaint</td>\n",
       "      <td>False</td>\n",
       "      <td>8</td>\n",
       "      <td>[30, 32, 33, 34, 35, 36, 41]</td>\n",
       "      <td>7</td>\n",
       "      <td>0</td>\n",
       "      <td>0</td>\n",
       "      <td>7</td>\n",
       "      <td>41.7359 -87.5858</td>\n",
       "      <td>True</td>\n",
       "      <td>False</td>\n",
       "      <td>False</td>\n",
       "      <td>False</td>\n",
       "      <td>False</td>\n",
       "    </tr>\n",
       "    <tr>\n",
       "      <th>113942</th>\n",
       "      <td>TAQUERIA UPTOWN</td>\n",
       "      <td>Restaurant</td>\n",
       "      <td>High</td>\n",
       "      <td>2014-03-27</td>\n",
       "      <td>Canvass</td>\n",
       "      <td>False</td>\n",
       "      <td>48</td>\n",
       "      <td>[12, 30, 33, 38]</td>\n",
       "      <td>4</td>\n",
       "      <td>1</td>\n",
       "      <td>0</td>\n",
       "      <td>3</td>\n",
       "      <td>41.9837 -87.6599</td>\n",
       "      <td>False</td>\n",
       "      <td>False</td>\n",
       "      <td>True</td>\n",
       "      <td>False</td>\n",
       "      <td>False</td>\n",
       "    </tr>\n",
       "    <tr>\n",
       "      <th>113951</th>\n",
       "      <td>COCORO</td>\n",
       "      <td>Restaurant</td>\n",
       "      <td>High</td>\n",
       "      <td>2014-03-27</td>\n",
       "      <td>Canvass</td>\n",
       "      <td>False</td>\n",
       "      <td>42</td>\n",
       "      <td>[6, 9, 12, 31, 32, 33, 35, 38, 41, 43]</td>\n",
       "      <td>10</td>\n",
       "      <td>3</td>\n",
       "      <td>0</td>\n",
       "      <td>7</td>\n",
       "      <td>41.8944 -87.6343</td>\n",
       "      <td>False</td>\n",
       "      <td>False</td>\n",
       "      <td>True</td>\n",
       "      <td>False</td>\n",
       "      <td>False</td>\n",
       "    </tr>\n",
       "    <tr>\n",
       "      <th>113953</th>\n",
       "      <td>The Indian Garden Restaurant</td>\n",
       "      <td>Restaurant</td>\n",
       "      <td>High</td>\n",
       "      <td>2014-03-27</td>\n",
       "      <td>Canvass</td>\n",
       "      <td>False</td>\n",
       "      <td>42</td>\n",
       "      <td>[30, 35, 43]</td>\n",
       "      <td>3</td>\n",
       "      <td>0</td>\n",
       "      <td>0</td>\n",
       "      <td>3</td>\n",
       "      <td>41.8933 -87.6215</td>\n",
       "      <td>True</td>\n",
       "      <td>False</td>\n",
       "      <td>False</td>\n",
       "      <td>False</td>\n",
       "      <td>False</td>\n",
       "    </tr>\n",
       "    <tr>\n",
       "      <th>113975</th>\n",
       "      <td>DUNKIN DONUTS BASKIN ROBBINS</td>\n",
       "      <td>Restaurant</td>\n",
       "      <td>High</td>\n",
       "      <td>2014-03-27</td>\n",
       "      <td>Canvass</td>\n",
       "      <td>False</td>\n",
       "      <td>36</td>\n",
       "      <td>[32, 33, 34, 40]</td>\n",
       "      <td>4</td>\n",
       "      <td>0</td>\n",
       "      <td>0</td>\n",
       "      <td>4</td>\n",
       "      <td>41.9457 -87.7766</td>\n",
       "      <td>True</td>\n",
       "      <td>False</td>\n",
       "      <td>False</td>\n",
       "      <td>False</td>\n",
       "      <td>False</td>\n",
       "    </tr>\n",
       "  </tbody>\n",
       "</table>\n",
       "</div>"
      ],
      "text/plain": [
       "                            DBA Name Facility Type  Risk Inspection Date  \\\n",
       "113921          BJ'S MARKET & BAKERY    Restaurant  High      2014-03-27   \n",
       "113942               TAQUERIA UPTOWN    Restaurant  High      2014-03-27   \n",
       "113951                        COCORO    Restaurant  High      2014-03-27   \n",
       "113953  The Indian Garden Restaurant    Restaurant  High      2014-03-27   \n",
       "113975  DUNKIN DONUTS BASKIN ROBBINS    Restaurant  High      2014-03-27   \n",
       "\n",
       "       Inspection Type  Re-inspection Ward  \\\n",
       "113921       Complaint          False    8   \n",
       "113942         Canvass          False   48   \n",
       "113951         Canvass          False   42   \n",
       "113953         Canvass          False   42   \n",
       "113975         Canvass          False   36   \n",
       "\n",
       "                                 Violation IDs  Nb Violations  \\\n",
       "113921            [30, 32, 33, 34, 35, 36, 41]              7   \n",
       "113942                        [12, 30, 33, 38]              4   \n",
       "113951  [6, 9, 12, 31, 32, 33, 35, 38, 41, 43]             10   \n",
       "113953                            [30, 35, 43]              3   \n",
       "113975                        [32, 33, 34, 40]              4   \n",
       "\n",
       "        Nb Violations of high severity  Nb Violations of medium severity  \\\n",
       "113921                               0                                 0   \n",
       "113942                               1                                 0   \n",
       "113951                               3                                 0   \n",
       "113953                               0                                 0   \n",
       "113975                               0                                 0   \n",
       "\n",
       "        Nb Violations of low severity               gps   pass   fail  \\\n",
       "113921                              7  41.7359 -87.5858   True  False   \n",
       "113942                              3  41.9837 -87.6599  False  False   \n",
       "113951                              7  41.8944 -87.6343  False  False   \n",
       "113953                              3  41.8933 -87.6215   True  False   \n",
       "113975                              4  41.9457 -87.7766   True  False   \n",
       "\n",
       "        pass_cond    oob  no_entry  \n",
       "113921      False  False     False  \n",
       "113942       True  False     False  \n",
       "113951       True  False     False  \n",
       "113953      False  False     False  \n",
       "113975      False  False     False  "
      ]
     },
     "execution_count": 119,
     "metadata": {},
     "output_type": "execute_result"
    }
   ],
   "source": [
    "inspections_common = inspections.copy()\n",
    "inspections_common = inspections_common[(inspections_common['Inspection Date'] > min_date) & (inspections_common['Inspection Date'] < max_date)]\n",
    "inspections_common['gps'] = inspections[['Latitude', 'Longitude']].apply(lambda x: \"{0:.4f} {1:.4f}\".format(x[0], x[1]), axis=1)\n",
    "inspections_common = inspections_common[inspections_common.gps.isin(intersection_pos)]\n",
    "inspections_common = inspections_common.drop(['Inspection ID', 'AKA Name', 'License #', 'Address', 'Zip', 'Precinct', 'Violations',\\\n",
    "                                              'Community', 'Neighborhood', 'Latitude', 'Longitude'], axis=1)\n",
    "\n",
    "result_map = {'Pass': 'pass', 'Fail': 'fail', 'Pass w/ Conditions': 'pass_cond', 'Out of Business': 'oob', 'No Entry': 'no_entry'}\n",
    "for key in result_map.keys():\n",
    "    inspections_common[result_map.get(key)] = inspections_common.Results == key\n",
    "    \n",
    "inspections_common = inspections_common.drop('Results', axis=1)\n",
    "inspections_common.head()"
   ]
  },
  {
   "cell_type": "code",
   "execution_count": 120,
   "metadata": {},
   "outputs": [
    {
     "data": {
      "text/html": [
       "<div>\n",
       "<style scoped>\n",
       "    .dataframe tbody tr th:only-of-type {\n",
       "        vertical-align: middle;\n",
       "    }\n",
       "\n",
       "    .dataframe tbody tr th {\n",
       "        vertical-align: top;\n",
       "    }\n",
       "\n",
       "    .dataframe thead th {\n",
       "        text-align: right;\n",
       "    }\n",
       "</style>\n",
       "<table border=\"1\" class=\"dataframe\">\n",
       "  <thead>\n",
       "    <tr style=\"text-align: right;\">\n",
       "      <th></th>\n",
       "      <th>gps</th>\n",
       "      <th>Re-inspection</th>\n",
       "      <th>Nb Violations</th>\n",
       "      <th>Nb Violations of high severity</th>\n",
       "      <th>Nb Violations of medium severity</th>\n",
       "      <th>Nb Violations of low severity</th>\n",
       "      <th>pass</th>\n",
       "      <th>fail</th>\n",
       "      <th>pass_cond</th>\n",
       "      <th>oob</th>\n",
       "      <th>no_entry</th>\n",
       "      <th>avg_rating</th>\n",
       "    </tr>\n",
       "  </thead>\n",
       "  <tbody>\n",
       "    <tr>\n",
       "      <th>0</th>\n",
       "      <td>41.6524 -87.5470</td>\n",
       "      <td>0.000000</td>\n",
       "      <td>5.000000</td>\n",
       "      <td>0.000000</td>\n",
       "      <td>0.000000</td>\n",
       "      <td>5.000000</td>\n",
       "      <td>1.000000</td>\n",
       "      <td>0.000000</td>\n",
       "      <td>0.000000</td>\n",
       "      <td>0.000000</td>\n",
       "      <td>0.0</td>\n",
       "      <td>3.40</td>\n",
       "    </tr>\n",
       "    <tr>\n",
       "      <th>1</th>\n",
       "      <td>41.6528 -87.5473</td>\n",
       "      <td>0.142857</td>\n",
       "      <td>2.714286</td>\n",
       "      <td>0.000000</td>\n",
       "      <td>0.142857</td>\n",
       "      <td>2.571429</td>\n",
       "      <td>0.571429</td>\n",
       "      <td>0.285714</td>\n",
       "      <td>0.000000</td>\n",
       "      <td>0.142857</td>\n",
       "      <td>0.0</td>\n",
       "      <td>4.25</td>\n",
       "    </tr>\n",
       "    <tr>\n",
       "      <th>2</th>\n",
       "      <td>41.6530 -87.5410</td>\n",
       "      <td>0.333333</td>\n",
       "      <td>4.000000</td>\n",
       "      <td>0.000000</td>\n",
       "      <td>0.333333</td>\n",
       "      <td>3.666667</td>\n",
       "      <td>0.666667</td>\n",
       "      <td>0.333333</td>\n",
       "      <td>0.000000</td>\n",
       "      <td>0.000000</td>\n",
       "      <td>0.0</td>\n",
       "      <td>5.00</td>\n",
       "    </tr>\n",
       "    <tr>\n",
       "      <th>3</th>\n",
       "      <td>41.6554 -87.5470</td>\n",
       "      <td>0.000000</td>\n",
       "      <td>6.666667</td>\n",
       "      <td>0.333333</td>\n",
       "      <td>0.000000</td>\n",
       "      <td>6.333333</td>\n",
       "      <td>0.666667</td>\n",
       "      <td>0.000000</td>\n",
       "      <td>0.333333</td>\n",
       "      <td>0.000000</td>\n",
       "      <td>0.0</td>\n",
       "      <td>5.00</td>\n",
       "    </tr>\n",
       "    <tr>\n",
       "      <th>4</th>\n",
       "      <td>41.6566 -87.5974</td>\n",
       "      <td>0.250000</td>\n",
       "      <td>6.000000</td>\n",
       "      <td>0.250000</td>\n",
       "      <td>0.250000</td>\n",
       "      <td>5.500000</td>\n",
       "      <td>0.500000</td>\n",
       "      <td>0.250000</td>\n",
       "      <td>0.250000</td>\n",
       "      <td>0.000000</td>\n",
       "      <td>0.0</td>\n",
       "      <td>2.00</td>\n",
       "    </tr>\n",
       "  </tbody>\n",
       "</table>\n",
       "</div>"
      ],
      "text/plain": [
       "                gps  Re-inspection  Nb Violations  \\\n",
       "0  41.6524 -87.5470       0.000000       5.000000   \n",
       "1  41.6528 -87.5473       0.142857       2.714286   \n",
       "2  41.6530 -87.5410       0.333333       4.000000   \n",
       "3  41.6554 -87.5470       0.000000       6.666667   \n",
       "4  41.6566 -87.5974       0.250000       6.000000   \n",
       "\n",
       "   Nb Violations of high severity  Nb Violations of medium severity  \\\n",
       "0                        0.000000                          0.000000   \n",
       "1                        0.000000                          0.142857   \n",
       "2                        0.000000                          0.333333   \n",
       "3                        0.333333                          0.000000   \n",
       "4                        0.250000                          0.250000   \n",
       "\n",
       "   Nb Violations of low severity      pass      fail  pass_cond       oob  \\\n",
       "0                       5.000000  1.000000  0.000000   0.000000  0.000000   \n",
       "1                       2.571429  0.571429  0.285714   0.000000  0.142857   \n",
       "2                       3.666667  0.666667  0.333333   0.000000  0.000000   \n",
       "3                       6.333333  0.666667  0.000000   0.333333  0.000000   \n",
       "4                       5.500000  0.500000  0.250000   0.250000  0.000000   \n",
       "\n",
       "   no_entry  avg_rating  \n",
       "0       0.0        3.40  \n",
       "1       0.0        4.25  \n",
       "2       0.0        5.00  \n",
       "3       0.0        5.00  \n",
       "4       0.0        2.00  "
      ]
     },
     "execution_count": 120,
     "metadata": {},
     "output_type": "execute_result"
    }
   ],
   "source": [
    "merge = inspections_common.groupby(by='gps').mean().merge(location_ratings, left_on='gps', right_on='gps')\n",
    "merge.head(5)"
   ]
  },
  {
   "cell_type": "code",
   "execution_count": 121,
   "metadata": {},
   "outputs": [
    {
     "data": {
      "text/html": [
       "<div>\n",
       "<style scoped>\n",
       "    .dataframe tbody tr th:only-of-type {\n",
       "        vertical-align: middle;\n",
       "    }\n",
       "\n",
       "    .dataframe tbody tr th {\n",
       "        vertical-align: top;\n",
       "    }\n",
       "\n",
       "    .dataframe thead th {\n",
       "        text-align: right;\n",
       "    }\n",
       "</style>\n",
       "<table border=\"1\" class=\"dataframe\">\n",
       "  <thead>\n",
       "    <tr style=\"text-align: right;\">\n",
       "      <th></th>\n",
       "      <th>Re-inspection</th>\n",
       "      <th>Nb Violations</th>\n",
       "      <th>Nb Violations of high severity</th>\n",
       "      <th>Nb Violations of medium severity</th>\n",
       "      <th>Nb Violations of low severity</th>\n",
       "      <th>pass</th>\n",
       "      <th>fail</th>\n",
       "      <th>pass_cond</th>\n",
       "      <th>oob</th>\n",
       "      <th>no_entry</th>\n",
       "      <th>avg_rating</th>\n",
       "    </tr>\n",
       "  </thead>\n",
       "  <tbody>\n",
       "    <tr>\n",
       "      <th>Re-inspection</th>\n",
       "      <td>1.000000</td>\n",
       "      <td>0.327815</td>\n",
       "      <td>0.424071</td>\n",
       "      <td>0.774914</td>\n",
       "      <td>0.179013</td>\n",
       "      <td>-0.340308</td>\n",
       "      <td>0.835062</td>\n",
       "      <td>0.051197</td>\n",
       "      <td>-0.149449</td>\n",
       "      <td>-0.041208</td>\n",
       "      <td>-0.027660</td>\n",
       "    </tr>\n",
       "    <tr>\n",
       "      <th>Nb Violations</th>\n",
       "      <td>0.327815</td>\n",
       "      <td>1.000000</td>\n",
       "      <td>0.372659</td>\n",
       "      <td>0.410640</td>\n",
       "      <td>0.964340</td>\n",
       "      <td>0.054727</td>\n",
       "      <td>0.227012</td>\n",
       "      <td>0.283509</td>\n",
       "      <td>-0.368879</td>\n",
       "      <td>-0.113148</td>\n",
       "      <td>-0.048943</td>\n",
       "    </tr>\n",
       "    <tr>\n",
       "      <th>Nb Violations of high severity</th>\n",
       "      <td>0.424071</td>\n",
       "      <td>0.372659</td>\n",
       "      <td>1.000000</td>\n",
       "      <td>0.380009</td>\n",
       "      <td>0.201663</td>\n",
       "      <td>-0.364888</td>\n",
       "      <td>0.337496</td>\n",
       "      <td>0.520527</td>\n",
       "      <td>-0.046971</td>\n",
       "      <td>-0.094130</td>\n",
       "      <td>-0.033711</td>\n",
       "    </tr>\n",
       "    <tr>\n",
       "      <th>Nb Violations of medium severity</th>\n",
       "      <td>0.774914</td>\n",
       "      <td>0.410640</td>\n",
       "      <td>0.380009</td>\n",
       "      <td>1.000000</td>\n",
       "      <td>0.227376</td>\n",
       "      <td>-0.429215</td>\n",
       "      <td>0.700594</td>\n",
       "      <td>0.286907</td>\n",
       "      <td>-0.131085</td>\n",
       "      <td>-0.051566</td>\n",
       "      <td>-0.031630</td>\n",
       "    </tr>\n",
       "    <tr>\n",
       "      <th>Nb Violations of low severity</th>\n",
       "      <td>0.179013</td>\n",
       "      <td>0.964340</td>\n",
       "      <td>0.201663</td>\n",
       "      <td>0.227376</td>\n",
       "      <td>1.000000</td>\n",
       "      <td>0.198359</td>\n",
       "      <td>0.089628</td>\n",
       "      <td>0.190704</td>\n",
       "      <td>-0.370978</td>\n",
       "      <td>-0.093100</td>\n",
       "      <td>-0.047443</td>\n",
       "    </tr>\n",
       "    <tr>\n",
       "      <th>pass</th>\n",
       "      <td>-0.340308</td>\n",
       "      <td>0.054727</td>\n",
       "      <td>-0.364888</td>\n",
       "      <td>-0.429215</td>\n",
       "      <td>0.198359</td>\n",
       "      <td>1.000000</td>\n",
       "      <td>-0.406599</td>\n",
       "      <td>-0.364524</td>\n",
       "      <td>-0.474520</td>\n",
       "      <td>-0.214976</td>\n",
       "      <td>-0.022596</td>\n",
       "    </tr>\n",
       "    <tr>\n",
       "      <th>fail</th>\n",
       "      <td>0.835062</td>\n",
       "      <td>0.227012</td>\n",
       "      <td>0.337496</td>\n",
       "      <td>0.700594</td>\n",
       "      <td>0.089628</td>\n",
       "      <td>-0.406599</td>\n",
       "      <td>1.000000</td>\n",
       "      <td>-0.086045</td>\n",
       "      <td>-0.139611</td>\n",
       "      <td>-0.011037</td>\n",
       "      <td>0.010180</td>\n",
       "    </tr>\n",
       "    <tr>\n",
       "      <th>pass_cond</th>\n",
       "      <td>0.051197</td>\n",
       "      <td>0.283509</td>\n",
       "      <td>0.520527</td>\n",
       "      <td>0.286907</td>\n",
       "      <td>0.190704</td>\n",
       "      <td>-0.364524</td>\n",
       "      <td>-0.086045</td>\n",
       "      <td>1.000000</td>\n",
       "      <td>-0.061722</td>\n",
       "      <td>-0.065046</td>\n",
       "      <td>-0.027924</td>\n",
       "    </tr>\n",
       "    <tr>\n",
       "      <th>oob</th>\n",
       "      <td>-0.149449</td>\n",
       "      <td>-0.368879</td>\n",
       "      <td>-0.046971</td>\n",
       "      <td>-0.131085</td>\n",
       "      <td>-0.370978</td>\n",
       "      <td>-0.474520</td>\n",
       "      <td>-0.139611</td>\n",
       "      <td>-0.061722</td>\n",
       "      <td>1.000000</td>\n",
       "      <td>-0.019772</td>\n",
       "      <td>0.034326</td>\n",
       "    </tr>\n",
       "    <tr>\n",
       "      <th>no_entry</th>\n",
       "      <td>-0.041208</td>\n",
       "      <td>-0.113148</td>\n",
       "      <td>-0.094130</td>\n",
       "      <td>-0.051566</td>\n",
       "      <td>-0.093100</td>\n",
       "      <td>-0.214976</td>\n",
       "      <td>-0.011037</td>\n",
       "      <td>-0.065046</td>\n",
       "      <td>-0.019772</td>\n",
       "      <td>1.000000</td>\n",
       "      <td>0.008633</td>\n",
       "    </tr>\n",
       "    <tr>\n",
       "      <th>avg_rating</th>\n",
       "      <td>-0.027660</td>\n",
       "      <td>-0.048943</td>\n",
       "      <td>-0.033711</td>\n",
       "      <td>-0.031630</td>\n",
       "      <td>-0.047443</td>\n",
       "      <td>-0.022596</td>\n",
       "      <td>0.010180</td>\n",
       "      <td>-0.027924</td>\n",
       "      <td>0.034326</td>\n",
       "      <td>0.008633</td>\n",
       "      <td>1.000000</td>\n",
       "    </tr>\n",
       "  </tbody>\n",
       "</table>\n",
       "</div>"
      ],
      "text/plain": [
       "                                  Re-inspection  Nb Violations  \\\n",
       "Re-inspection                          1.000000       0.327815   \n",
       "Nb Violations                          0.327815       1.000000   \n",
       "Nb Violations of high severity         0.424071       0.372659   \n",
       "Nb Violations of medium severity       0.774914       0.410640   \n",
       "Nb Violations of low severity          0.179013       0.964340   \n",
       "pass                                  -0.340308       0.054727   \n",
       "fail                                   0.835062       0.227012   \n",
       "pass_cond                              0.051197       0.283509   \n",
       "oob                                   -0.149449      -0.368879   \n",
       "no_entry                              -0.041208      -0.113148   \n",
       "avg_rating                            -0.027660      -0.048943   \n",
       "\n",
       "                                  Nb Violations of high severity  \\\n",
       "Re-inspection                                           0.424071   \n",
       "Nb Violations                                           0.372659   \n",
       "Nb Violations of high severity                          1.000000   \n",
       "Nb Violations of medium severity                        0.380009   \n",
       "Nb Violations of low severity                           0.201663   \n",
       "pass                                                   -0.364888   \n",
       "fail                                                    0.337496   \n",
       "pass_cond                                               0.520527   \n",
       "oob                                                    -0.046971   \n",
       "no_entry                                               -0.094130   \n",
       "avg_rating                                             -0.033711   \n",
       "\n",
       "                                  Nb Violations of medium severity  \\\n",
       "Re-inspection                                             0.774914   \n",
       "Nb Violations                                             0.410640   \n",
       "Nb Violations of high severity                            0.380009   \n",
       "Nb Violations of medium severity                          1.000000   \n",
       "Nb Violations of low severity                             0.227376   \n",
       "pass                                                     -0.429215   \n",
       "fail                                                      0.700594   \n",
       "pass_cond                                                 0.286907   \n",
       "oob                                                      -0.131085   \n",
       "no_entry                                                 -0.051566   \n",
       "avg_rating                                               -0.031630   \n",
       "\n",
       "                                  Nb Violations of low severity      pass  \\\n",
       "Re-inspection                                          0.179013 -0.340308   \n",
       "Nb Violations                                          0.964340  0.054727   \n",
       "Nb Violations of high severity                         0.201663 -0.364888   \n",
       "Nb Violations of medium severity                       0.227376 -0.429215   \n",
       "Nb Violations of low severity                          1.000000  0.198359   \n",
       "pass                                                   0.198359  1.000000   \n",
       "fail                                                   0.089628 -0.406599   \n",
       "pass_cond                                              0.190704 -0.364524   \n",
       "oob                                                   -0.370978 -0.474520   \n",
       "no_entry                                              -0.093100 -0.214976   \n",
       "avg_rating                                            -0.047443 -0.022596   \n",
       "\n",
       "                                      fail  pass_cond       oob  no_entry  \\\n",
       "Re-inspection                     0.835062   0.051197 -0.149449 -0.041208   \n",
       "Nb Violations                     0.227012   0.283509 -0.368879 -0.113148   \n",
       "Nb Violations of high severity    0.337496   0.520527 -0.046971 -0.094130   \n",
       "Nb Violations of medium severity  0.700594   0.286907 -0.131085 -0.051566   \n",
       "Nb Violations of low severity     0.089628   0.190704 -0.370978 -0.093100   \n",
       "pass                             -0.406599  -0.364524 -0.474520 -0.214976   \n",
       "fail                              1.000000  -0.086045 -0.139611 -0.011037   \n",
       "pass_cond                        -0.086045   1.000000 -0.061722 -0.065046   \n",
       "oob                              -0.139611  -0.061722  1.000000 -0.019772   \n",
       "no_entry                         -0.011037  -0.065046 -0.019772  1.000000   \n",
       "avg_rating                        0.010180  -0.027924  0.034326  0.008633   \n",
       "\n",
       "                                  avg_rating  \n",
       "Re-inspection                      -0.027660  \n",
       "Nb Violations                      -0.048943  \n",
       "Nb Violations of high severity     -0.033711  \n",
       "Nb Violations of medium severity   -0.031630  \n",
       "Nb Violations of low severity      -0.047443  \n",
       "pass                               -0.022596  \n",
       "fail                                0.010180  \n",
       "pass_cond                          -0.027924  \n",
       "oob                                 0.034326  \n",
       "no_entry                            0.008633  \n",
       "avg_rating                          1.000000  "
      ]
     },
     "execution_count": 121,
     "metadata": {},
     "output_type": "execute_result"
    }
   ],
   "source": [
    "merge.corr('spearman')"
   ]
  },
  {
   "cell_type": "markdown",
   "metadata": {},
   "source": [
    "If we do the analysis on a per location basis, the correlation isn't there anymore.  \n",
    "Unfortunately, we have to drop the idea that average google rating is correlated with the inspection fail rate."
   ]
  },
  {
   "cell_type": "markdown",
   "metadata": {},
   "source": [
    "## Are google ratings linked to inspection frequency?  \n",
    "We take back our previous dataset to see if the number of inspection may correlate with the google rating."
   ]
  },
  {
   "cell_type": "code",
   "execution_count": 122,
   "metadata": {},
   "outputs": [
    {
     "data": {
      "text/html": [
       "<div>\n",
       "<style scoped>\n",
       "    .dataframe tbody tr th:only-of-type {\n",
       "        vertical-align: middle;\n",
       "    }\n",
       "\n",
       "    .dataframe tbody tr th {\n",
       "        vertical-align: top;\n",
       "    }\n",
       "\n",
       "    .dataframe thead th {\n",
       "        text-align: right;\n",
       "    }\n",
       "</style>\n",
       "<table border=\"1\" class=\"dataframe\">\n",
       "  <thead>\n",
       "    <tr style=\"text-align: right;\">\n",
       "      <th></th>\n",
       "      <th>inspection</th>\n",
       "    </tr>\n",
       "    <tr>\n",
       "      <th>ward</th>\n",
       "      <th></th>\n",
       "    </tr>\n",
       "  </thead>\n",
       "  <tbody>\n",
       "    <tr>\n",
       "      <th>1</th>\n",
       "      <td>1678</td>\n",
       "    </tr>\n",
       "    <tr>\n",
       "      <th>10</th>\n",
       "      <td>631</td>\n",
       "    </tr>\n",
       "    <tr>\n",
       "      <th>11</th>\n",
       "      <td>963</td>\n",
       "    </tr>\n",
       "    <tr>\n",
       "      <th>12</th>\n",
       "      <td>917</td>\n",
       "    </tr>\n",
       "    <tr>\n",
       "      <th>13</th>\n",
       "      <td>489</td>\n",
       "    </tr>\n",
       "  </tbody>\n",
       "</table>\n",
       "</div>"
      ],
      "text/plain": [
       "      inspection\n",
       "ward            \n",
       "1           1678\n",
       "10           631\n",
       "11           963\n",
       "12           917\n",
       "13           489"
      ]
     },
     "execution_count": 122,
     "metadata": {},
     "output_type": "execute_result"
    }
   ],
   "source": [
    "inspections_per_ward = reduced_inspections.copy()[['ward']]\n",
    "inspections_per_ward['inspection'] = 1\n",
    "number_of_inspections_per_ward = inspections_per_ward.groupby(by='ward').sum()\n",
    "number_of_inspections_per_ward.head()"
   ]
  },
  {
   "cell_type": "markdown",
   "metadata": {},
   "source": [
    "We normalize this result using the number of licenses in each ward."
   ]
  },
  {
   "cell_type": "code",
   "execution_count": 123,
   "metadata": {},
   "outputs": [
    {
     "data": {
      "text/html": [
       "<div>\n",
       "<style scoped>\n",
       "    .dataframe tbody tr th:only-of-type {\n",
       "        vertical-align: middle;\n",
       "    }\n",
       "\n",
       "    .dataframe tbody tr th {\n",
       "        vertical-align: top;\n",
       "    }\n",
       "\n",
       "    .dataframe thead th {\n",
       "        text-align: right;\n",
       "    }\n",
       "</style>\n",
       "<table border=\"1\" class=\"dataframe\">\n",
       "  <thead>\n",
       "    <tr style=\"text-align: right;\">\n",
       "      <th></th>\n",
       "      <th>license_count</th>\n",
       "    </tr>\n",
       "    <tr>\n",
       "      <th>ward</th>\n",
       "      <th></th>\n",
       "    </tr>\n",
       "  </thead>\n",
       "  <tbody>\n",
       "    <tr>\n",
       "      <th>1</th>\n",
       "      <td>712</td>\n",
       "    </tr>\n",
       "    <tr>\n",
       "      <th>10</th>\n",
       "      <td>301</td>\n",
       "    </tr>\n",
       "    <tr>\n",
       "      <th>11</th>\n",
       "      <td>373</td>\n",
       "    </tr>\n",
       "    <tr>\n",
       "      <th>12</th>\n",
       "      <td>377</td>\n",
       "    </tr>\n",
       "    <tr>\n",
       "      <th>13</th>\n",
       "      <td>192</td>\n",
       "    </tr>\n",
       "  </tbody>\n",
       "</table>\n",
       "</div>"
      ],
      "text/plain": [
       "      license_count\n",
       "ward               \n",
       "1               712\n",
       "10              301\n",
       "11              373\n",
       "12              377\n",
       "13              192"
      ]
     },
     "execution_count": 123,
     "metadata": {},
     "output_type": "execute_result"
    }
   ],
   "source": [
    "licenses_per_ward = inspections_in_time_range.copy()[~inspections_in_time_range['Re-inspection']][['Ward', 'License #']].rename(columns={'Ward': 'ward'})\n",
    "licenses_per_ward = licenses_per_ward.groupby(by='ward').nunique()[['License #']].rename(columns={'License #': 'license_count'})\n",
    "licenses_per_ward.head()"
   ]
  },
  {
   "cell_type": "code",
   "execution_count": 124,
   "metadata": {},
   "outputs": [
    {
     "data": {
      "text/html": [
       "<div>\n",
       "<style scoped>\n",
       "    .dataframe tbody tr th:only-of-type {\n",
       "        vertical-align: middle;\n",
       "    }\n",
       "\n",
       "    .dataframe tbody tr th {\n",
       "        vertical-align: top;\n",
       "    }\n",
       "\n",
       "    .dataframe thead th {\n",
       "        text-align: right;\n",
       "    }\n",
       "</style>\n",
       "<table border=\"1\" class=\"dataframe\">\n",
       "  <thead>\n",
       "    <tr style=\"text-align: right;\">\n",
       "      <th></th>\n",
       "      <th>inspection</th>\n",
       "    </tr>\n",
       "    <tr>\n",
       "      <th>ward</th>\n",
       "      <th></th>\n",
       "    </tr>\n",
       "  </thead>\n",
       "  <tbody>\n",
       "    <tr>\n",
       "      <th>1</th>\n",
       "      <td>2.356742</td>\n",
       "    </tr>\n",
       "    <tr>\n",
       "      <th>10</th>\n",
       "      <td>2.096346</td>\n",
       "    </tr>\n",
       "    <tr>\n",
       "      <th>11</th>\n",
       "      <td>2.581769</td>\n",
       "    </tr>\n",
       "    <tr>\n",
       "      <th>12</th>\n",
       "      <td>2.432361</td>\n",
       "    </tr>\n",
       "    <tr>\n",
       "      <th>13</th>\n",
       "      <td>2.546875</td>\n",
       "    </tr>\n",
       "  </tbody>\n",
       "</table>\n",
       "</div>"
      ],
      "text/plain": [
       "      inspection\n",
       "ward            \n",
       "1       2.356742\n",
       "10      2.096346\n",
       "11      2.581769\n",
       "12      2.432361\n",
       "13      2.546875"
      ]
     },
     "execution_count": 124,
     "metadata": {},
     "output_type": "execute_result"
    }
   ],
   "source": [
    "normalized_inspections_per_ward = number_of_inspections_per_ward.copy()\n",
    "normalized_inspections_per_ward.inspection = number_of_inspections_per_ward.inspection / licenses_per_ward.license_count\n",
    "normalized_inspections_per_ward.head()"
   ]
  },
  {
   "cell_type": "code",
   "execution_count": 125,
   "metadata": {},
   "outputs": [
    {
     "data": {
      "text/html": [
       "<div>\n",
       "<style scoped>\n",
       "    .dataframe tbody tr th:only-of-type {\n",
       "        vertical-align: middle;\n",
       "    }\n",
       "\n",
       "    .dataframe tbody tr th {\n",
       "        vertical-align: top;\n",
       "    }\n",
       "\n",
       "    .dataframe thead th {\n",
       "        text-align: right;\n",
       "    }\n",
       "</style>\n",
       "<table border=\"1\" class=\"dataframe\">\n",
       "  <thead>\n",
       "    <tr style=\"text-align: right;\">\n",
       "      <th></th>\n",
       "      <th>med_rating</th>\n",
       "      <th>avg_rating</th>\n",
       "    </tr>\n",
       "    <tr>\n",
       "      <th>ward</th>\n",
       "      <th></th>\n",
       "      <th></th>\n",
       "    </tr>\n",
       "  </thead>\n",
       "  <tbody>\n",
       "    <tr>\n",
       "      <th>1</th>\n",
       "      <td>4.247438</td>\n",
       "      <td>4.156468</td>\n",
       "    </tr>\n",
       "    <tr>\n",
       "      <th>10</th>\n",
       "      <td>3.821970</td>\n",
       "      <td>3.755748</td>\n",
       "    </tr>\n",
       "    <tr>\n",
       "      <th>11</th>\n",
       "      <td>4.176259</td>\n",
       "      <td>4.073104</td>\n",
       "    </tr>\n",
       "    <tr>\n",
       "      <th>12</th>\n",
       "      <td>3.904321</td>\n",
       "      <td>3.836449</td>\n",
       "    </tr>\n",
       "    <tr>\n",
       "      <th>13</th>\n",
       "      <td>4.030000</td>\n",
       "      <td>3.949823</td>\n",
       "    </tr>\n",
       "  </tbody>\n",
       "</table>\n",
       "</div>"
      ],
      "text/plain": [
       "      med_rating  avg_rating\n",
       "ward                        \n",
       "1       4.247438    4.156468\n",
       "10      3.821970    3.755748\n",
       "11      4.176259    4.073104\n",
       "12      3.904321    3.836449\n",
       "13      4.030000    3.949823"
      ]
     },
     "execution_count": 125,
     "metadata": {},
     "output_type": "execute_result"
    }
   ],
   "source": [
    "ward_google_ratings.head()"
   ]
  },
  {
   "cell_type": "code",
   "execution_count": 126,
   "metadata": {},
   "outputs": [
    {
     "data": {
      "text/html": [
       "<div>\n",
       "<style scoped>\n",
       "    .dataframe tbody tr th:only-of-type {\n",
       "        vertical-align: middle;\n",
       "    }\n",
       "\n",
       "    .dataframe tbody tr th {\n",
       "        vertical-align: top;\n",
       "    }\n",
       "\n",
       "    .dataframe thead th {\n",
       "        text-align: right;\n",
       "    }\n",
       "</style>\n",
       "<table border=\"1\" class=\"dataframe\">\n",
       "  <thead>\n",
       "    <tr style=\"text-align: right;\">\n",
       "      <th></th>\n",
       "      <th>med_rating</th>\n",
       "      <th>avg_rating</th>\n",
       "      <th>inspection</th>\n",
       "    </tr>\n",
       "  </thead>\n",
       "  <tbody>\n",
       "    <tr>\n",
       "      <th>med_rating</th>\n",
       "      <td>1.000000</td>\n",
       "      <td>0.992603</td>\n",
       "      <td>-0.023025</td>\n",
       "    </tr>\n",
       "    <tr>\n",
       "      <th>avg_rating</th>\n",
       "      <td>0.992603</td>\n",
       "      <td>1.000000</td>\n",
       "      <td>-0.019947</td>\n",
       "    </tr>\n",
       "    <tr>\n",
       "      <th>inspection</th>\n",
       "      <td>-0.023025</td>\n",
       "      <td>-0.019947</td>\n",
       "      <td>1.000000</td>\n",
       "    </tr>\n",
       "  </tbody>\n",
       "</table>\n",
       "</div>"
      ],
      "text/plain": [
       "            med_rating  avg_rating  inspection\n",
       "med_rating    1.000000    0.992603   -0.023025\n",
       "avg_rating    0.992603    1.000000   -0.019947\n",
       "inspection   -0.023025   -0.019947    1.000000"
      ]
     },
     "execution_count": 126,
     "metadata": {},
     "output_type": "execute_result"
    }
   ],
   "source": [
    "ward_google_ratings.merge(normalized_inspections_per_ward, left_on='ward', right_on='ward').corr()"
   ]
  },
  {
   "cell_type": "markdown",
   "metadata": {},
   "source": [
    "Again, no correlation between the number of inspections and the google ratings"
   ]
  },
  {
   "cell_type": "code",
   "execution_count": null,
   "metadata": {},
   "outputs": [],
   "source": []
  }
 ],
 "metadata": {
  "kernelspec": {
   "display_name": "Python 3",
   "language": "python",
   "name": "python3"
  },
  "language_info": {
   "codemirror_mode": {
    "name": "ipython",
    "version": 3
   },
   "file_extension": ".py",
   "mimetype": "text/x-python",
   "name": "python",
   "nbconvert_exporter": "python",
   "pygments_lexer": "ipython3",
   "version": "3.7.4"
  }
 },
 "nbformat": 4,
 "nbformat_minor": 4
}
