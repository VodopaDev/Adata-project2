{
 "cells": [
  {
   "cell_type": "code",
   "execution_count": 1,
   "metadata": {},
   "outputs": [],
   "source": [
    "import pandas as pd\n",
    "import matplotlib.pyplot as plt\n",
    "%matplotlib inline"
   ]
  },
  {
   "cell_type": "code",
   "execution_count": 3,
   "metadata": {},
   "outputs": [
    {
     "data": {
      "text/html": [
       "<div>\n",
       "<style scoped>\n",
       "    .dataframe tbody tr th:only-of-type {\n",
       "        vertical-align: middle;\n",
       "    }\n",
       "\n",
       "    .dataframe tbody tr th {\n",
       "        vertical-align: top;\n",
       "    }\n",
       "\n",
       "    .dataframe thead th {\n",
       "        text-align: right;\n",
       "    }\n",
       "</style>\n",
       "<table border=\"1\" class=\"dataframe\">\n",
       "  <thead>\n",
       "    <tr style=\"text-align: right;\">\n",
       "      <th></th>\n",
       "      <th>STN---</th>\n",
       "      <th>WBAN</th>\n",
       "      <th>YEARMODA</th>\n",
       "      <th>TEMP</th>\n",
       "      <th></th>\n",
       "      <th>DEWP</th>\n",
       "      <th>.1</th>\n",
       "      <th>SLP</th>\n",
       "      <th>.2</th>\n",
       "      <th>STP</th>\n",
       "      <th>...</th>\n",
       "      <th>WDSP</th>\n",
       "      <th>.5</th>\n",
       "      <th>MXSPD</th>\n",
       "      <th>GUST</th>\n",
       "      <th>MAX</th>\n",
       "      <th>MIN</th>\n",
       "      <th>PRCP</th>\n",
       "      <th>SNDP</th>\n",
       "      <th>FRSHTT</th>\n",
       "      <th>Unnamed: 22</th>\n",
       "    </tr>\n",
       "  </thead>\n",
       "  <tbody>\n",
       "    <tr>\n",
       "      <th>0</th>\n",
       "      <td>997338</td>\n",
       "      <td>99999</td>\n",
       "      <td>20050322</td>\n",
       "      <td>35.0</td>\n",
       "      <td>12</td>\n",
       "      <td>9999.9</td>\n",
       "      <td>0</td>\n",
       "      <td>9999.9</td>\n",
       "      <td>0</td>\n",
       "      <td>9999.9</td>\n",
       "      <td>...</td>\n",
       "      <td>16.9</td>\n",
       "      <td>12</td>\n",
       "      <td>23.9</td>\n",
       "      <td>999.9</td>\n",
       "      <td>35.4*</td>\n",
       "      <td>34.3*</td>\n",
       "      <td>0.00I</td>\n",
       "      <td>999.9</td>\n",
       "      <td>0</td>\n",
       "      <td>NaN</td>\n",
       "    </tr>\n",
       "    <tr>\n",
       "      <th>1</th>\n",
       "      <td>997338</td>\n",
       "      <td>99999</td>\n",
       "      <td>20050323</td>\n",
       "      <td>35.1</td>\n",
       "      <td>24</td>\n",
       "      <td>9999.9</td>\n",
       "      <td>0</td>\n",
       "      <td>9999.9</td>\n",
       "      <td>0</td>\n",
       "      <td>9999.9</td>\n",
       "      <td>...</td>\n",
       "      <td>19.0</td>\n",
       "      <td>24</td>\n",
       "      <td>23.9</td>\n",
       "      <td>999.9</td>\n",
       "      <td>37.2*</td>\n",
       "      <td>32.5*</td>\n",
       "      <td>0.00I</td>\n",
       "      <td>999.9</td>\n",
       "      <td>0</td>\n",
       "      <td>NaN</td>\n",
       "    </tr>\n",
       "    <tr>\n",
       "      <th>2</th>\n",
       "      <td>997338</td>\n",
       "      <td>99999</td>\n",
       "      <td>20050324</td>\n",
       "      <td>34.0</td>\n",
       "      <td>24</td>\n",
       "      <td>9999.9</td>\n",
       "      <td>0</td>\n",
       "      <td>9999.9</td>\n",
       "      <td>0</td>\n",
       "      <td>9999.9</td>\n",
       "      <td>...</td>\n",
       "      <td>7.9</td>\n",
       "      <td>24</td>\n",
       "      <td>16.9</td>\n",
       "      <td>999.9</td>\n",
       "      <td>36.3*</td>\n",
       "      <td>31.3*</td>\n",
       "      <td>0.00I</td>\n",
       "      <td>999.9</td>\n",
       "      <td>0</td>\n",
       "      <td>NaN</td>\n",
       "    </tr>\n",
       "    <tr>\n",
       "      <th>3</th>\n",
       "      <td>997338</td>\n",
       "      <td>99999</td>\n",
       "      <td>20050325</td>\n",
       "      <td>34.6</td>\n",
       "      <td>24</td>\n",
       "      <td>9999.9</td>\n",
       "      <td>0</td>\n",
       "      <td>9999.9</td>\n",
       "      <td>0</td>\n",
       "      <td>9999.9</td>\n",
       "      <td>...</td>\n",
       "      <td>11.1</td>\n",
       "      <td>24</td>\n",
       "      <td>18.1</td>\n",
       "      <td>999.9</td>\n",
       "      <td>36.7*</td>\n",
       "      <td>32.0*</td>\n",
       "      <td>0.00I</td>\n",
       "      <td>999.9</td>\n",
       "      <td>0</td>\n",
       "      <td>NaN</td>\n",
       "    </tr>\n",
       "    <tr>\n",
       "      <th>4</th>\n",
       "      <td>997338</td>\n",
       "      <td>99999</td>\n",
       "      <td>20050326</td>\n",
       "      <td>34.2</td>\n",
       "      <td>21</td>\n",
       "      <td>9999.9</td>\n",
       "      <td>0</td>\n",
       "      <td>9999.9</td>\n",
       "      <td>0</td>\n",
       "      <td>9999.9</td>\n",
       "      <td>...</td>\n",
       "      <td>9.0</td>\n",
       "      <td>21</td>\n",
       "      <td>15.9</td>\n",
       "      <td>999.9</td>\n",
       "      <td>35.1*</td>\n",
       "      <td>33.3*</td>\n",
       "      <td>0.00I</td>\n",
       "      <td>999.9</td>\n",
       "      <td>0</td>\n",
       "      <td>NaN</td>\n",
       "    </tr>\n",
       "  </tbody>\n",
       "</table>\n",
       "<p>5 rows × 23 columns</p>\n",
       "</div>"
      ],
      "text/plain": [
       "   STN---   WBAN  YEARMODA  TEMP        DEWP  .1     SLP  .2     STP  ...  \\\n",
       "0  997338  99999  20050322  35.0  12  9999.9   0  9999.9   0  9999.9  ...   \n",
       "1  997338  99999  20050323  35.1  24  9999.9   0  9999.9   0  9999.9  ...   \n",
       "2  997338  99999  20050324  34.0  24  9999.9   0  9999.9   0  9999.9  ...   \n",
       "3  997338  99999  20050325  34.6  24  9999.9   0  9999.9   0  9999.9  ...   \n",
       "4  997338  99999  20050326  34.2  21  9999.9   0  9999.9   0  9999.9  ...   \n",
       "\n",
       "   WDSP  .5  MXSPD   GUST       MAX      MIN    PRCP   SNDP FRSHTT Unnamed: 22  \n",
       "0  16.9  12   23.9  999.9     35.4*    34.3*   0.00I  999.9      0         NaN  \n",
       "1  19.0  24   23.9  999.9     37.2*    32.5*   0.00I  999.9      0         NaN  \n",
       "2   7.9  24   16.9  999.9     36.3*    31.3*   0.00I  999.9      0         NaN  \n",
       "3  11.1  24   18.1  999.9     36.7*    32.0*   0.00I  999.9      0         NaN  \n",
       "4   9.0  21   15.9  999.9     35.1*    33.3*   0.00I  999.9      0         NaN  \n",
       "\n",
       "[5 rows x 23 columns]"
      ]
     },
     "execution_count": 3,
     "metadata": {},
     "output_type": "execute_result"
    }
   ],
   "source": [
    "temp = pd.read_csv('temp_by_date.csv')\n",
    "temp.columns = temp.columns.str.strip()\n",
    "temp.head()"
   ]
  },
  {
   "cell_type": "code",
   "execution_count": 4,
   "metadata": {},
   "outputs": [],
   "source": [
    "temp = temp[['YEARMODA', 'TEMP', 'PRCP']]\n",
    "temp['YEAR'] = temp['YEARMODA'].astype(str).map(lambda x: x[:4])\n",
    "temp['MONTH'] = temp['YEARMODA'].astype(str).map(lambda x: x[4:6])\n",
    "temp['DAY'] = temp['YEARMODA'].astype(str).map(lambda x: x[6:])\n",
    "temp = temp.drop('YEARMODA', axis=1)\n",
    "temp = temp.set_index(['YEAR', 'MONTH', 'DAY'])"
   ]
  },
  {
   "cell_type": "code",
   "execution_count": 5,
   "metadata": {},
   "outputs": [
    {
     "data": {
      "text/plain": [
       "<matplotlib.axes._subplots.AxesSubplot at 0x7fe8801293d0>"
      ]
     },
     "execution_count": 5,
     "metadata": {},
     "output_type": "execute_result"
    },
    {
     "data": {
      "image/png": "[encoded data removed]",
      "text/plain": [
       "<Figure size 432x288 with 1 Axes>"
      ]
     },
     "metadata": {
      "needs_background": "light"
     },
     "output_type": "display_data"
    }
   ],
   "source": [
    "temp.reset_index().set_index('YEAR')[['TEMP']].plot()"
   ]
  },
  {
   "cell_type": "code",
   "execution_count": 12,
   "metadata": {},
   "outputs": [
    {
     "data": {
      "text/plain": [
       "<matplotlib.legend.Legend at 0x7fe812a5efd0>"
      ]
     },
     "execution_count": 12,
     "metadata": {},
     "output_type": "execute_result"
    },
    {
     "data": {
      "image/png": "[encoded data removed]",
      "text/plain": [
       "<Figure size 432x288 with 1 Axes>"
      ]
     },
     "metadata": {
      "needs_background": "light"
     },
     "output_type": "display_data"
    }
   ],
   "source": [
    "mean_temp_by_year = temp[['TEMP']].groupby('YEAR').mean()\n",
    "median_temp_by_year = temp[['TEMP']].groupby('YEAR').median()\n",
    "\n",
    "ax = mean_temp_by_year.plot()\n",
    "median_temp_by_year.plot(ax=ax)\n",
    "ax.legend(['Mean', 'Median'])"
   ]
  },
  {
   "cell_type": "code",
   "execution_count": 46,
   "metadata": {},
   "outputs": [
    {
     "data": {
      "text/html": [
       "<div>\n",
       "<style scoped>\n",
       "    .dataframe tbody tr th:only-of-type {\n",
       "        vertical-align: middle;\n",
       "    }\n",
       "\n",
       "    .dataframe tbody tr th {\n",
       "        vertical-align: top;\n",
       "    }\n",
       "\n",
       "    .dataframe thead th {\n",
       "        text-align: right;\n",
       "    }\n",
       "</style>\n",
       "<table border=\"1\" class=\"dataframe\">\n",
       "  <thead>\n",
       "    <tr style=\"text-align: right;\">\n",
       "      <th></th>\n",
       "      <th>Inspection ID</th>\n",
       "      <th>DBA Name</th>\n",
       "      <th>AKA Name</th>\n",
       "      <th>License #</th>\n",
       "      <th>Facility Type</th>\n",
       "      <th>Risk</th>\n",
       "      <th>Address</th>\n",
       "      <th>Zip</th>\n",
       "      <th>Inspection Date</th>\n",
       "      <th>Inspection Type</th>\n",
       "      <th>...</th>\n",
       "      <th>Re-inspection</th>\n",
       "      <th>Community</th>\n",
       "      <th>Neighborhood</th>\n",
       "      <th>Ward</th>\n",
       "      <th>Precinct</th>\n",
       "      <th>Violation IDs</th>\n",
       "      <th>Nb Violations</th>\n",
       "      <th>Nb Violations of high severity</th>\n",
       "      <th>Nb Violations of medium severity</th>\n",
       "      <th>Nb Violations of low severity</th>\n",
       "    </tr>\n",
       "  </thead>\n",
       "  <tbody>\n",
       "    <tr>\n",
       "      <th>0</th>\n",
       "      <td>2320519</td>\n",
       "      <td>SALAM  RESTAURANT</td>\n",
       "      <td>SALAM RESTAURANT</td>\n",
       "      <td>2002822</td>\n",
       "      <td>Restaurant</td>\n",
       "      <td>High</td>\n",
       "      <td>4634-4636 N KEDZIE AVE</td>\n",
       "      <td>60625</td>\n",
       "      <td>2019-10-25</td>\n",
       "      <td>Complaint</td>\n",
       "      <td>...</td>\n",
       "      <td>True</td>\n",
       "      <td>ALBANY PARK</td>\n",
       "      <td>NORTH PARK,ALBANY PARK</td>\n",
       "      <td>33</td>\n",
       "      <td>27</td>\n",
       "      <td>[None]</td>\n",
       "      <td>0</td>\n",
       "      <td>0</td>\n",
       "      <td>0</td>\n",
       "      <td>0</td>\n",
       "    </tr>\n",
       "    <tr>\n",
       "      <th>1</th>\n",
       "      <td>2320509</td>\n",
       "      <td>TAQUERIA EL DORADO</td>\n",
       "      <td>TAQUERIA EL DORADO</td>\n",
       "      <td>2694960</td>\n",
       "      <td>Restaurant</td>\n",
       "      <td>High</td>\n",
       "      <td>2114 W LAWRENCE AVE</td>\n",
       "      <td>60625</td>\n",
       "      <td>2019-10-25</td>\n",
       "      <td>License</td>\n",
       "      <td>...</td>\n",
       "      <td>True</td>\n",
       "      <td>LINCOLN SQUARE</td>\n",
       "      <td>LINCOLN SQUARE</td>\n",
       "      <td>47</td>\n",
       "      <td>38</td>\n",
       "      <td>[3, 5, 25, 50, 53, 53, 56, 58]</td>\n",
       "      <td>8</td>\n",
       "      <td>2</td>\n",
       "      <td>1</td>\n",
       "      <td>5</td>\n",
       "    </tr>\n",
       "  </tbody>\n",
       "</table>\n",
       "<p>2 rows × 24 columns</p>\n",
       "</div>"
      ],
      "text/plain": [
       "   Inspection ID            DBA Name            AKA Name  License #  \\\n",
       "0        2320519   SALAM  RESTAURANT    SALAM RESTAURANT    2002822   \n",
       "1        2320509  TAQUERIA EL DORADO  TAQUERIA EL DORADO    2694960   \n",
       "\n",
       "  Facility Type  Risk                  Address    Zip Inspection Date  \\\n",
       "0    Restaurant  High  4634-4636 N KEDZIE AVE   60625      2019-10-25   \n",
       "1    Restaurant  High     2114 W LAWRENCE AVE   60625      2019-10-25   \n",
       "\n",
       "  Inspection Type  ... Re-inspection       Community            Neighborhood  \\\n",
       "0       Complaint  ...          True     ALBANY PARK  NORTH PARK,ALBANY PARK   \n",
       "1         License  ...          True  LINCOLN SQUARE          LINCOLN SQUARE   \n",
       "\n",
       "   Ward  Precinct                   Violation IDs Nb Violations  \\\n",
       "0    33        27                          [None]             0   \n",
       "1    47        38  [3, 5, 25, 50, 53, 53, 56, 58]             8   \n",
       "\n",
       "  Nb Violations of high severity Nb Violations of medium severity  \\\n",
       "0                              0                                0   \n",
       "1                              2                                1   \n",
       "\n",
       "  Nb Violations of low severity  \n",
       "0                             0  \n",
       "1                             5  \n",
       "\n",
       "[2 rows x 24 columns]"
      ]
     },
     "execution_count": 46,
     "metadata": {},
     "output_type": "execute_result"
    }
   ],
   "source": [
    "import pyarrow.parquet as pq\n",
    "path = 'extended_dataset.parquet'\n",
    "df = pd.read_parquet(path)\n",
    "df.head(2)"
   ]
  },
  {
   "cell_type": "code",
   "execution_count": 47,
   "metadata": {},
   "outputs": [
    {
     "data": {
      "text/plain": [
       "Text(0.5, 1.0, 'Number of inspections by year')"
      ]
     },
     "execution_count": 47,
     "metadata": {},
     "output_type": "execute_result"
    },
    {
     "data": {
      "image/png": "[encoded data removed]",
      "text/plain": [
       "<Figure size 432x288 with 1 Axes>"
      ]
     },
     "metadata": {
      "needs_background": "light"
     },
     "output_type": "display_data"
    }
   ],
   "source": [
    "nb_inspections_by_year = df[['Inspection Date', 'Inspection ID']].copy()\n",
    "nb_inspections_by_year['Inspection Date'] = nb_inspections_by_year['Inspection Date'].apply(lambda x: x.year).astype(str)\n",
    "nb_inspections_by_year.rename(columns={'Inspection Date' : 'Inspection Year'}, inplace=True)\n",
    "nb_inspections_by_year = nb_inspections_by_year.groupby('Inspection Year').count().rename(columns={'Inspection ID' : 'Count'})\n",
    "nb_inspections_by_year.plot()\n",
    "plt.title(\"Number of inspections by year\")"
   ]
  },
  {
   "cell_type": "code",
   "execution_count": 48,
   "metadata": {},
   "outputs": [
    {
     "data": {
      "text/html": [
       "<div>\n",
       "<style scoped>\n",
       "    .dataframe tbody tr th:only-of-type {\n",
       "        vertical-align: middle;\n",
       "    }\n",
       "\n",
       "    .dataframe tbody tr th {\n",
       "        vertical-align: top;\n",
       "    }\n",
       "\n",
       "    .dataframe thead th {\n",
       "        text-align: right;\n",
       "    }\n",
       "</style>\n",
       "<table border=\"1\" class=\"dataframe\">\n",
       "  <thead>\n",
       "    <tr style=\"text-align: right;\">\n",
       "      <th></th>\n",
       "      <th>Count</th>\n",
       "      <th>TEMP</th>\n",
       "    </tr>\n",
       "    <tr>\n",
       "      <th>Inspection Year</th>\n",
       "      <th></th>\n",
       "      <th></th>\n",
       "    </tr>\n",
       "  </thead>\n",
       "  <tbody>\n",
       "    <tr>\n",
       "      <th>2010</th>\n",
       "      <td>17866</td>\n",
       "      <td>50.431549</td>\n",
       "    </tr>\n",
       "    <tr>\n",
       "      <th>2011</th>\n",
       "      <td>18461</td>\n",
       "      <td>50.015746</td>\n",
       "    </tr>\n",
       "    <tr>\n",
       "      <th>2012</th>\n",
       "      <td>18568</td>\n",
       "      <td>53.566942</td>\n",
       "    </tr>\n",
       "    <tr>\n",
       "      <th>2013</th>\n",
       "      <td>20672</td>\n",
       "      <td>48.443802</td>\n",
       "    </tr>\n",
       "    <tr>\n",
       "      <th>2014</th>\n",
       "      <td>21213</td>\n",
       "      <td>46.631129</td>\n",
       "    </tr>\n",
       "    <tr>\n",
       "      <th>2015</th>\n",
       "      <td>20587</td>\n",
       "      <td>50.051695</td>\n",
       "    </tr>\n",
       "    <tr>\n",
       "      <th>2016</th>\n",
       "      <td>22455</td>\n",
       "      <td>53.117080</td>\n",
       "    </tr>\n",
       "    <tr>\n",
       "      <th>2017</th>\n",
       "      <td>21219</td>\n",
       "      <td>52.385359</td>\n",
       "    </tr>\n",
       "    <tr>\n",
       "      <th>2018</th>\n",
       "      <td>16844</td>\n",
       "      <td>32.410435</td>\n",
       "    </tr>\n",
       "    <tr>\n",
       "      <th>2019</th>\n",
       "      <td>13942</td>\n",
       "      <td>54.293436</td>\n",
       "    </tr>\n",
       "  </tbody>\n",
       "</table>\n",
       "</div>"
      ],
      "text/plain": [
       "                 Count       TEMP\n",
       "Inspection Year                  \n",
       "2010             17866  50.431549\n",
       "2011             18461  50.015746\n",
       "2012             18568  53.566942\n",
       "2013             20672  48.443802\n",
       "2014             21213  46.631129\n",
       "2015             20587  50.051695\n",
       "2016             22455  53.117080\n",
       "2017             21219  52.385359\n",
       "2018             16844  32.410435\n",
       "2019             13942  54.293436"
      ]
     },
     "execution_count": 48,
     "metadata": {},
     "output_type": "execute_result"
    }
   ],
   "source": [
    "df_joined_inspections = nb_inspections_by_year.rename(index={'Inspection Year' : 'YEAR'}).join(mean_temp_by_year)\n",
    "df_joined_inspections"
   ]
  },
  {
   "cell_type": "code",
   "execution_count": 49,
   "metadata": {},
   "outputs": [
    {
     "data": {
      "text/html": [
       "<div>\n",
       "<style scoped>\n",
       "    .dataframe tbody tr th:only-of-type {\n",
       "        vertical-align: middle;\n",
       "    }\n",
       "\n",
       "    .dataframe tbody tr th {\n",
       "        vertical-align: top;\n",
       "    }\n",
       "\n",
       "    .dataframe thead th {\n",
       "        text-align: right;\n",
       "    }\n",
       "</style>\n",
       "<table border=\"1\" class=\"dataframe\">\n",
       "  <thead>\n",
       "    <tr style=\"text-align: right;\">\n",
       "      <th></th>\n",
       "      <th>Count</th>\n",
       "      <th>TEMP</th>\n",
       "    </tr>\n",
       "  </thead>\n",
       "  <tbody>\n",
       "    <tr>\n",
       "      <th>Count</th>\n",
       "      <td>1.000000</td>\n",
       "      <td>0.149667</td>\n",
       "    </tr>\n",
       "    <tr>\n",
       "      <th>TEMP</th>\n",
       "      <td>0.149667</td>\n",
       "      <td>1.000000</td>\n",
       "    </tr>\n",
       "  </tbody>\n",
       "</table>\n",
       "</div>"
      ],
      "text/plain": [
       "          Count      TEMP\n",
       "Count  1.000000  0.149667\n",
       "TEMP   0.149667  1.000000"
      ]
     },
     "execution_count": 49,
     "metadata": {},
     "output_type": "execute_result"
    }
   ],
   "source": [
    "df_joined_inspections.corr()"
   ]
  },
  {
   "cell_type": "code",
   "execution_count": 50,
   "metadata": {},
   "outputs": [
    {
     "data": {
      "text/plain": [
       "Text(0.5, 1.0, 'Number of failed inspections by year')"
      ]
     },
     "execution_count": 50,
     "metadata": {},
     "output_type": "execute_result"
    },
    {
     "data": {
      "image/png": "[encoded data removed]",
      "text/plain": [
       "<Figure size 432x288 with 1 Axes>"
      ]
     },
     "metadata": {
      "needs_background": "light"
     },
     "output_type": "display_data"
    }
   ],
   "source": [
    "nb_fails_by_year= df[df['Results'] == 'Fail'].copy()\n",
    "nb_fails_by_year = nb_fails_by_year[['Inspection Date', 'Inspection ID']]\n",
    "nb_fails_by_year['Inspection Date'] = nb_fails_by_year['Inspection Date'].apply(lambda x: x.year).astype(str)\n",
    "nb_fails_by_year.rename(columns={'Inspection Date' : 'Inspection Year'}, inplace=True)\n",
    "nb_fails_by_year = nb_fails_by_year.groupby('Inspection Year').count().rename(columns={'Inspection ID' : 'Count'})\n",
    "nb_fails_by_year.plot()\n",
    "plt.title(\"Number of failed inspections by year\")"
   ]
  },
  {
   "cell_type": "code",
   "execution_count": 51,
   "metadata": {},
   "outputs": [
    {
     "data": {
      "text/html": [
       "<div>\n",
       "<style scoped>\n",
       "    .dataframe tbody tr th:only-of-type {\n",
       "        vertical-align: middle;\n",
       "    }\n",
       "\n",
       "    .dataframe tbody tr th {\n",
       "        vertical-align: top;\n",
       "    }\n",
       "\n",
       "    .dataframe thead th {\n",
       "        text-align: right;\n",
       "    }\n",
       "</style>\n",
       "<table border=\"1\" class=\"dataframe\">\n",
       "  <thead>\n",
       "    <tr style=\"text-align: right;\">\n",
       "      <th></th>\n",
       "      <th>Count</th>\n",
       "      <th>TEMP</th>\n",
       "    </tr>\n",
       "    <tr>\n",
       "      <th>Inspection Year</th>\n",
       "      <th></th>\n",
       "      <th></th>\n",
       "    </tr>\n",
       "  </thead>\n",
       "  <tbody>\n",
       "    <tr>\n",
       "      <th>2010</th>\n",
       "      <td>4471</td>\n",
       "      <td>50.431549</td>\n",
       "    </tr>\n",
       "    <tr>\n",
       "      <th>2011</th>\n",
       "      <td>4326</td>\n",
       "      <td>50.015746</td>\n",
       "    </tr>\n",
       "    <tr>\n",
       "      <th>2012</th>\n",
       "      <td>3621</td>\n",
       "      <td>53.566942</td>\n",
       "    </tr>\n",
       "    <tr>\n",
       "      <th>2013</th>\n",
       "      <td>3299</td>\n",
       "      <td>48.443802</td>\n",
       "    </tr>\n",
       "    <tr>\n",
       "      <th>2014</th>\n",
       "      <td>3679</td>\n",
       "      <td>46.631129</td>\n",
       "    </tr>\n",
       "    <tr>\n",
       "      <th>2015</th>\n",
       "      <td>3562</td>\n",
       "      <td>50.051695</td>\n",
       "    </tr>\n",
       "    <tr>\n",
       "      <th>2016</th>\n",
       "      <td>4237</td>\n",
       "      <td>53.117080</td>\n",
       "    </tr>\n",
       "    <tr>\n",
       "      <th>2017</th>\n",
       "      <td>4064</td>\n",
       "      <td>52.385359</td>\n",
       "    </tr>\n",
       "    <tr>\n",
       "      <th>2018</th>\n",
       "      <td>3269</td>\n",
       "      <td>32.410435</td>\n",
       "    </tr>\n",
       "    <tr>\n",
       "      <th>2019</th>\n",
       "      <td>2751</td>\n",
       "      <td>54.293436</td>\n",
       "    </tr>\n",
       "  </tbody>\n",
       "</table>\n",
       "</div>"
      ],
      "text/plain": [
       "                 Count       TEMP\n",
       "Inspection Year                  \n",
       "2010              4471  50.431549\n",
       "2011              4326  50.015746\n",
       "2012              3621  53.566942\n",
       "2013              3299  48.443802\n",
       "2014              3679  46.631129\n",
       "2015              3562  50.051695\n",
       "2016              4237  53.117080\n",
       "2017              4064  52.385359\n",
       "2018              3269  32.410435\n",
       "2019              2751  54.293436"
      ]
     },
     "execution_count": 51,
     "metadata": {},
     "output_type": "execute_result"
    }
   ],
   "source": [
    "df_joined_fails = nb_fails_by_year.rename(index={'Inspection Year' : 'YEAR'}).join(mean_temp_by_year)\n",
    "df_joined_fails"
   ]
  },
  {
   "cell_type": "code",
   "execution_count": 52,
   "metadata": {},
   "outputs": [
    {
     "data": {
      "text/html": [
       "<div>\n",
       "<style scoped>\n",
       "    .dataframe tbody tr th:only-of-type {\n",
       "        vertical-align: middle;\n",
       "    }\n",
       "\n",
       "    .dataframe tbody tr th {\n",
       "        vertical-align: top;\n",
       "    }\n",
       "\n",
       "    .dataframe thead th {\n",
       "        text-align: right;\n",
       "    }\n",
       "</style>\n",
       "<table border=\"1\" class=\"dataframe\">\n",
       "  <thead>\n",
       "    <tr style=\"text-align: right;\">\n",
       "      <th></th>\n",
       "      <th>Count</th>\n",
       "      <th>TEMP</th>\n",
       "    </tr>\n",
       "  </thead>\n",
       "  <tbody>\n",
       "    <tr>\n",
       "      <th>Count</th>\n",
       "      <td>1.00000</td>\n",
       "      <td>0.22617</td>\n",
       "    </tr>\n",
       "    <tr>\n",
       "      <th>TEMP</th>\n",
       "      <td>0.22617</td>\n",
       "      <td>1.00000</td>\n",
       "    </tr>\n",
       "  </tbody>\n",
       "</table>\n",
       "</div>"
      ],
      "text/plain": [
       "         Count     TEMP\n",
       "Count  1.00000  0.22617\n",
       "TEMP   0.22617  1.00000"
      ]
     },
     "execution_count": 52,
     "metadata": {},
     "output_type": "execute_result"
    }
   ],
   "source": [
    "df_joined_fails.corr()"
   ]
  },
  {
   "cell_type": "code",
   "execution_count": 53,
   "metadata": {},
   "outputs": [
    {
     "data": {
      "text/plain": [
       "Text(0.5, 1.0, 'Number of violations by year')"
      ]
     },
     "execution_count": 53,
     "metadata": {},
     "output_type": "execute_result"
    },
    {
     "data": {
      "image/png": "[encoded data removed]",
      "text/plain": [
       "<Figure size 432x288 with 1 Axes>"
      ]
     },
     "metadata": {
      "needs_background": "light"
     },
     "output_type": "display_data"
    }
   ],
   "source": [
    "nb_violations_by_year = df[['Inspection Date', 'Nb Violations']].copy()\n",
    "nb_violations_by_year['Inspection Date'] = nb_violations_by_year['Inspection Date'].apply(lambda x: x.year).astype(str)\n",
    "nb_violations_by_year.rename(columns={'Inspection Date' : 'Inspection Year'}, inplace=True)\n",
    "nb_violations_by_year = nb_violations_by_year.groupby('Inspection Year').sum().rename(columns={'Nb Violations' : 'Count'})\n",
    "nb_violations_by_year.plot()\n",
    "plt.title(\"Number of violations by year\")"
   ]
  },
  {
   "cell_type": "code",
   "execution_count": 54,
   "metadata": {},
   "outputs": [
    {
     "data": {
      "text/html": [
       "<div>\n",
       "<style scoped>\n",
       "    .dataframe tbody tr th:only-of-type {\n",
       "        vertical-align: middle;\n",
       "    }\n",
       "\n",
       "    .dataframe tbody tr th {\n",
       "        vertical-align: top;\n",
       "    }\n",
       "\n",
       "    .dataframe thead th {\n",
       "        text-align: right;\n",
       "    }\n",
       "</style>\n",
       "<table border=\"1\" class=\"dataframe\">\n",
       "  <thead>\n",
       "    <tr style=\"text-align: right;\">\n",
       "      <th></th>\n",
       "      <th>Count</th>\n",
       "      <th>TEMP</th>\n",
       "    </tr>\n",
       "    <tr>\n",
       "      <th>Inspection Year</th>\n",
       "      <th></th>\n",
       "      <th></th>\n",
       "    </tr>\n",
       "  </thead>\n",
       "  <tbody>\n",
       "    <tr>\n",
       "      <th>2010</th>\n",
       "      <td>53850</td>\n",
       "      <td>50.431549</td>\n",
       "    </tr>\n",
       "    <tr>\n",
       "      <th>2011</th>\n",
       "      <td>59517</td>\n",
       "      <td>50.015746</td>\n",
       "    </tr>\n",
       "    <tr>\n",
       "      <th>2012</th>\n",
       "      <td>56412</td>\n",
       "      <td>53.566942</td>\n",
       "    </tr>\n",
       "    <tr>\n",
       "      <th>2013</th>\n",
       "      <td>58166</td>\n",
       "      <td>48.443802</td>\n",
       "    </tr>\n",
       "    <tr>\n",
       "      <th>2014</th>\n",
       "      <td>66321</td>\n",
       "      <td>46.631129</td>\n",
       "    </tr>\n",
       "    <tr>\n",
       "      <th>2015</th>\n",
       "      <td>64123</td>\n",
       "      <td>50.051695</td>\n",
       "    </tr>\n",
       "    <tr>\n",
       "      <th>2016</th>\n",
       "      <td>67214</td>\n",
       "      <td>53.117080</td>\n",
       "    </tr>\n",
       "    <tr>\n",
       "      <th>2017</th>\n",
       "      <td>61322</td>\n",
       "      <td>52.385359</td>\n",
       "    </tr>\n",
       "    <tr>\n",
       "      <th>2018</th>\n",
       "      <td>64771</td>\n",
       "      <td>32.410435</td>\n",
       "    </tr>\n",
       "    <tr>\n",
       "      <th>2019</th>\n",
       "      <td>68758</td>\n",
       "      <td>54.293436</td>\n",
       "    </tr>\n",
       "  </tbody>\n",
       "</table>\n",
       "</div>"
      ],
      "text/plain": [
       "                 Count       TEMP\n",
       "Inspection Year                  \n",
       "2010             53850  50.431549\n",
       "2011             59517  50.015746\n",
       "2012             56412  53.566942\n",
       "2013             58166  48.443802\n",
       "2014             66321  46.631129\n",
       "2015             64123  50.051695\n",
       "2016             67214  53.117080\n",
       "2017             61322  52.385359\n",
       "2018             64771  32.410435\n",
       "2019             68758  54.293436"
      ]
     },
     "execution_count": 54,
     "metadata": {},
     "output_type": "execute_result"
    }
   ],
   "source": [
    "df_joined_violations = nb_violations_by_year.rename(index={'Inspection Year' : 'YEAR'}).join(mean_temp_by_year)\n",
    "df_joined_violations"
   ]
  },
  {
   "cell_type": "code",
   "execution_count": 55,
   "metadata": {},
   "outputs": [
    {
     "data": {
      "text/html": [
       "<div>\n",
       "<style scoped>\n",
       "    .dataframe tbody tr th:only-of-type {\n",
       "        vertical-align: middle;\n",
       "    }\n",
       "\n",
       "    .dataframe tbody tr th {\n",
       "        vertical-align: top;\n",
       "    }\n",
       "\n",
       "    .dataframe thead th {\n",
       "        text-align: right;\n",
       "    }\n",
       "</style>\n",
       "<table border=\"1\" class=\"dataframe\">\n",
       "  <thead>\n",
       "    <tr style=\"text-align: right;\">\n",
       "      <th></th>\n",
       "      <th>Count</th>\n",
       "      <th>TEMP</th>\n",
       "    </tr>\n",
       "  </thead>\n",
       "  <tbody>\n",
       "    <tr>\n",
       "      <th>Count</th>\n",
       "      <td>1.000000</td>\n",
       "      <td>-0.129072</td>\n",
       "    </tr>\n",
       "    <tr>\n",
       "      <th>TEMP</th>\n",
       "      <td>-0.129072</td>\n",
       "      <td>1.000000</td>\n",
       "    </tr>\n",
       "  </tbody>\n",
       "</table>\n",
       "</div>"
      ],
      "text/plain": [
       "          Count      TEMP\n",
       "Count  1.000000 -0.129072\n",
       "TEMP  -0.129072  1.000000"
      ]
     },
     "execution_count": 55,
     "metadata": {},
     "output_type": "execute_result"
    }
   ],
   "source": [
    "df_joined_violations.corr()"
   ]
  },
  {
   "cell_type": "markdown",
   "metadata": {},
   "source": [
    "Nothing interesting..."
   ]
  },
  {
   "cell_type": "code",
   "execution_count": null,
   "metadata": {},
   "outputs": [],
   "source": []
  }
 ],
 "metadata": {
  "kernelspec": {
   "display_name": "Python 3",
   "language": "python",
   "name": "python3"
  },
  "language_info": {
   "codemirror_mode": {
    "name": "ipython",
    "version": 3
   },
   "file_extension": ".py",
   "mimetype": "text/x-python",
   "name": "python",
   "nbconvert_exporter": "python",
   "pygments_lexer": "ipython3",
   "version": "3.7.4"
  }
 },
 "nbformat": 4,
 "nbformat_minor": 4
}
