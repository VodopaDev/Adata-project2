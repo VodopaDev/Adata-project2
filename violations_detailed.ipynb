{
 "cells": [
  {
   "cell_type": "code",
   "execution_count": 1,
   "metadata": {},
   "outputs": [],
   "source": [
    "import numpy as np\n",
    "import pandas as pd\n",
    "import matplotlib.pyplot as plt\n",
    "import pyarrow.parquet as pq\n",
    "import folium as fo\n",
    "import json\n",
    "from itertools import compress\n",
    "%matplotlib inline"
   ]
  },
  {
   "cell_type": "markdown",
   "metadata": {},
   "source": [
    "## LOAD RESOURCES ##"
   ]
  },
  {
   "cell_type": "code",
   "execution_count": 2,
   "metadata": {},
   "outputs": [
    {
     "data": {
      "text/html": [
       "<div>\n",
       "<style scoped>\n",
       "    .dataframe tbody tr th:only-of-type {\n",
       "        vertical-align: middle;\n",
       "    }\n",
       "\n",
       "    .dataframe tbody tr th {\n",
       "        vertical-align: top;\n",
       "    }\n",
       "\n",
       "    .dataframe thead th {\n",
       "        text-align: right;\n",
       "    }\n",
       "</style>\n",
       "<table border=\"1\" class=\"dataframe\">\n",
       "  <thead>\n",
       "    <tr style=\"text-align: right;\">\n",
       "      <th></th>\n",
       "      <th>Inspection ID</th>\n",
       "      <th>DBA Name</th>\n",
       "      <th>AKA Name</th>\n",
       "      <th>License #</th>\n",
       "      <th>Facility Type</th>\n",
       "      <th>Risk</th>\n",
       "      <th>Address</th>\n",
       "      <th>Zip</th>\n",
       "      <th>Inspection Date</th>\n",
       "      <th>Inspection Type</th>\n",
       "      <th>Results</th>\n",
       "      <th>Violations</th>\n",
       "      <th>Latitude</th>\n",
       "      <th>Longitude</th>\n",
       "      <th>Re-inspection</th>\n",
       "      <th>Community</th>\n",
       "      <th>Neighborhood</th>\n",
       "      <th>Ward</th>\n",
       "      <th>Precinct</th>\n",
       "    </tr>\n",
       "  </thead>\n",
       "  <tbody>\n",
       "    <tr>\n",
       "      <th>0</th>\n",
       "      <td>2320519</td>\n",
       "      <td>SALAM  RESTAURANT</td>\n",
       "      <td>SALAM RESTAURANT</td>\n",
       "      <td>2002822</td>\n",
       "      <td>Restaurant</td>\n",
       "      <td>High</td>\n",
       "      <td>4634-4636 N KEDZIE AVE</td>\n",
       "      <td>60625</td>\n",
       "      <td>2019-10-25</td>\n",
       "      <td>Complaint</td>\n",
       "      <td>Pass</td>\n",
       "      <td>None</td>\n",
       "      <td>41.965719</td>\n",
       "      <td>-87.708538</td>\n",
       "      <td>True</td>\n",
       "      <td>ALBANY PARK</td>\n",
       "      <td>NORTH PARK,ALBANY PARK</td>\n",
       "      <td>33</td>\n",
       "      <td>27</td>\n",
       "    </tr>\n",
       "    <tr>\n",
       "      <th>1</th>\n",
       "      <td>2320509</td>\n",
       "      <td>TAQUERIA EL DORADO</td>\n",
       "      <td>TAQUERIA EL DORADO</td>\n",
       "      <td>2694960</td>\n",
       "      <td>Restaurant</td>\n",
       "      <td>High</td>\n",
       "      <td>2114 W LAWRENCE AVE</td>\n",
       "      <td>60625</td>\n",
       "      <td>2019-10-25</td>\n",
       "      <td>License</td>\n",
       "      <td>Fail</td>\n",
       "      <td>3. MANAGEMENT, FOOD EMPLOYEE AND CONDITIONAL E...</td>\n",
       "      <td>41.968820</td>\n",
       "      <td>-87.682292</td>\n",
       "      <td>True</td>\n",
       "      <td>LINCOLN SQUARE</td>\n",
       "      <td>LINCOLN SQUARE</td>\n",
       "      <td>47</td>\n",
       "      <td>38</td>\n",
       "    </tr>\n",
       "  </tbody>\n",
       "</table>\n",
       "</div>"
      ],
      "text/plain": [
       "   Inspection ID            DBA Name            AKA Name  License #  \\\n",
       "0        2320519   SALAM  RESTAURANT    SALAM RESTAURANT    2002822   \n",
       "1        2320509  TAQUERIA EL DORADO  TAQUERIA EL DORADO    2694960   \n",
       "\n",
       "  Facility Type  Risk                  Address    Zip Inspection Date  \\\n",
       "0    Restaurant  High  4634-4636 N KEDZIE AVE   60625      2019-10-25   \n",
       "1    Restaurant  High     2114 W LAWRENCE AVE   60625      2019-10-25   \n",
       "\n",
       "  Inspection Type Results                                         Violations  \\\n",
       "0       Complaint    Pass                                               None   \n",
       "1         License    Fail  3. MANAGEMENT, FOOD EMPLOYEE AND CONDITIONAL E...   \n",
       "\n",
       "    Latitude  Longitude  Re-inspection       Community  \\\n",
       "0  41.965719 -87.708538           True     ALBANY PARK   \n",
       "1  41.968820 -87.682292           True  LINCOLN SQUARE   \n",
       "\n",
       "             Neighborhood Ward Precinct  \n",
       "0  NORTH PARK,ALBANY PARK   33       27  \n",
       "1          LINCOLN SQUARE   47       38  "
      ]
     },
     "execution_count": 2,
     "metadata": {},
     "output_type": "execute_result"
    }
   ],
   "source": [
    "path = 'resources/food-inspections-cleaned.parquet'\n",
    "df = pd.read_parquet(path)\n",
    "df.head(2)"
   ]
  },
  {
   "cell_type": "code",
   "execution_count": 3,
   "metadata": {},
   "outputs": [
    {
     "name": "stdout",
     "output_type": "stream",
     "text": [
      "We have 51070 out of 191827 inspections with no violations recorded. It makes 26.62%.\n"
     ]
    }
   ],
   "source": [
    "nb_NaN_violations = len(df) - df['Violations'].count()\n",
    "print(\"We have {} out of {} inspections with no violations recorded. It makes {}%.\".format(nb_NaN_violations, len(df), \"%.2f\" % (nb_NaN_violations/len(df)*100)))"
   ]
  },
  {
   "cell_type": "markdown",
   "metadata": {},
   "source": [
    "## EXPLODE VIOLATIONS ##"
   ]
  },
  {
   "cell_type": "code",
   "execution_count": 4,
   "metadata": {},
   "outputs": [],
   "source": [
    "df_split = df.copy()\n",
    "df_split['Violations'] = df_split['Violations'].map(lambda x: str(x).split('|'))\n",
    "#df_split.head(3)"
   ]
  },
  {
   "cell_type": "code",
   "execution_count": 5,
   "metadata": {},
   "outputs": [],
   "source": [
    "violations = df_split.explode('Violations').rename(columns={'Violations' : 'Violation'})\n",
    "violations = violations[violations['Violation'] != 'None']\n",
    "nb_violations = len(violations)\n",
    "#violations.head()"
   ]
  },
  {
   "cell_type": "markdown",
   "metadata": {},
   "source": [
    "## Categorize Violations ##"
   ]
  },
  {
   "cell_type": "code",
   "execution_count": 10,
   "metadata": {},
   "outputs": [],
   "source": [
    "others = ['* CERTIFIED FOOD MANAGER ON SITE WHEN POTENTIALLY HAZARDOUS FOODS ARE  PREPARED AND SERVED',\n",
    "'COMPLIANCE WITH VARIANCE/SPECIALIZED PROCESS/HACCP',\n",
    "    'VARIANCE OBTAINED FOR SPECIALIZED PROCESSING METHODS',\n",
    "    'CITY OF CHICAGO FOOD SERVICE SANITATION CERTIFICATE',\n",
    "     'REQUIRED RECORDS AVAILABLE: SHELLSTOCK TAGS, PARASITE DESTRUCTION',]\n",
    "\n",
    "corrected = ['PREVIOUS CORE VIOLATION CORRECTED',\n",
    " 'PREVIOUS MINOR VIOLATION(S) CORRECTED 7-42-090',\n",
    " 'PREVIOUS PRIORITY FOUNDATION VIOLATION CORRECTED',\n",
    " 'PREVIOUS SERIOUS VIOLATION CORRECTED, 7-42-090',\n",
    " 'REMOVAL OF SUSPENSION SIGN',\n",
    "]    \n",
    "\n",
    "personnel = [# employee\n",
    "'FOOD HANDLER REQUIREMENTS MET',\n",
    "'ALL FOOD EMPLOYEES HAVE FOOD HANDLER TRAINING',\n",
    "'MANAGEMENT, FOOD EMPLOYEE AND CONDITIONAL EMPLOYEE; KNOWLEDGE, RESPONSIBILITIES AND REPORTING',\n",
    "    'PERSON IN CHARGE PRESENT, DEMONSTRATES KNOWLEDGE, AND PERFORMS DUTIES',\n",
    "\n",
    "     'ONLY AUTHORIZED PERSONNEL IN THE FOOD-PREP AREA', #??????\n",
    "    'PROCEDURES FOR RESPONDING TO VOMITING AND DIARRHEAL EVENTS',\n",
    "]    \n",
    "    \n",
    "\n",
    "\n",
    "# other species \n",
    "guests=['INSECTS, RODENTS, & ANIMALS NOT PRESENT',\n",
    "'NO EVIDENCE OF RODENT OR INSECT INFESTATION, NO BIRDS, TURTLES OR OTHER ANIMALS',\n",
    "    'NO EVIDENCE OF RODENT OR INSECT OUTER OPENINGS PROTECTED/RODENT PROOFED, A WRITTEN LOG SHALL BE MAINTAINED AVAILABLE TO THE INSPECTORS',\n",
    "]\n",
    "# consumer info\n",
    "consumer = ['CONSUMER ADVISORY PROVIDED FOR RAW/UNDERCOOKED FOOD',\n",
    "'* INSPECTION REPORT SUMMARY DISPLAYED AND VISIBLE TO ALL CUSTOMERS',\n",
    "     'SUMMARY REPORT DISPLAYED AND VISIBLE TO THE PUBLIC',\n",
    "     'TIME AS A PUBLIC HEALTH CONTROL; PROCEDURES & RECORDS',\n",
    "]\n",
    "\n",
    "\n",
    "\n",
    "# human hygyene\n",
    "hygyene = [    'PERSONAL CLEANLINESS',\n",
    "     'PERSONNEL WITH INFECTIONS RESTRICTED: NO OPEN SORES, WOUNDS, ETC',\n",
    "'ADEQUATE HANDWASHING SINKS PROPERLY SUPPLIED AND ACCESSIBLE',\n",
    "'HAND WASHING FACILITIES: WITH SOAP AND SANITARY HAND DRYING DEVICES, CONVENIENT AND ACCESSIBLE TO FOOD PREP AREA',\n",
    "'HANDS CLEAN & PROPERLY WASHED',\n",
    "'HANDS WASHED AND CLEANED, GOOD HYGIENIC PRACTICES; NO BARE HAND CONTACT WITH READY-TO-EAT FOODS.',\n",
    "'NO DISCHARGE FROM EYES, NOSE, AND MOUTH',#????\n",
    "'NO BARE HAND CONTACT WITH RTE FOOD OR A PRE-APPROVED ALTERNATIVE PROCEDURE PROPERLY ALLOWED', ###?\n",
    "\n",
    " 'WASH AND RINSE WATER: CLEAN AND PROPER TEMPERATURE', #????\n",
    "]\n",
    "\n",
    "\n",
    "\n",
    "\n",
    "\n",
    "\n",
    "\n",
    "    #source\n",
    "source = ['FOOD ADDITIVES: APPROVED AND PROPERLY USED',\n",
    "'FOOD OBTAINED FROM APPROVED SOURCE',\n",
    "\n",
    "'FOOD IN GOOD CONDITION, SAFE, & UNADULTERATED',\n",
    " 'SOURCE OF CROSS CONTAMINATION CONTROLLED I.E',\n",
    "     'WATER & ICE FROM APPROVED SOURCE',\n",
    "        'ALLERGEN TRAINING AS REQUIRED', #???\n",
    "]\n",
    "\n",
    "    \n",
    "# food control\n",
    "control = ['PASTEURIZED EGGS USED WHERE REQUIRED',\n",
    "'PASTEURIZED FOODS USED; PROHIBITED FOODS NOT OFFERED',\n",
    "\n",
    "         'PROPER DATE MARKING AND DISPOSITION',\n",
    " 'PROPER DISPOSITION OF RETURNED, PREVIOUSLY SERVED, RECONDITIONED & UNSAFE FOOD',\n",
    " 'TOXIC ITEMS PROPERLY STORED, LABELED AND USED',\n",
    " 'TOXIC SUBSTANCES PROPERLY IDENTIFIED, STORED, & USED',\n",
    " 'UNWRAPPED AND POTENTIALLY HAZARDOUS FOOD NOT RE-SERVED',\n",
    "     'WASHING FRUITS & VEGETABLES',\n",
    "]\n",
    "\n",
    "# food storage - physical\n",
    "storage = ['FOOD IN ORIGINAL CONTAINER, PROPERLY LABELED: CUSTOMER ADVISORY POSTED AS NEEDED',\n",
    "'FOOD PROPERLY LABELED; ORIGINAL CONTAINER',\n",
    "'FOOD SEPARATED AND PROTECTED',\n",
    "\n",
    "'CONTAMINATION PREVENTED DURING FOOD PREPARATION, STORAGE & DISPLAY',\n",
    "'FOOD PROTECTED DURING STORAGE, PREPARATION, DISPLAY, SERVICE AND TRANSPORTATION',\n",
    "'INSIDE CONTAINERS OR RECEPTACLES: ADEQUATE NUMBER, PROPERLY COVERED AND INSECT/RODENT PROOF', #??????\n",
    "]\n",
    "\n",
    "# contacting utensils  \n",
    "utensils = ['CLEAN MULTI-USE UTENSILS AND SINGLE SERVICE ARTICLES PROPERLY STORED: NO REUSE OF SINGLE SERVICE ARTICLES',\n",
    "'DISH MACHINES: PROVIDED WITH ACCURATE THERMOMETERS, CHEMICAL TEST KITS AND SUITABLE GAUGE COCK',\n",
    "'DISH WASHING FACILITIES: PROPERLY DESIGNED, CONSTRUCTED, MAINTAINED, INSTALLED, LOCATED AND OPERATED',\n",
    "'DISHES AND UTENSILS FLUSHED, SCRAPED, SOAKED',\n",
    "'FOOD (ICE) DISPENSING UTENSILS, WASH CLOTHS PROPERLY STORED',\n",
    "'GLOVES USED PROPERLY',\n",
    "'IN-USE UTENSILS: PROPERLY STORED',\n",
    "'LINEN: CLEAN AND SOILED PROPERLY STORED',\n",
    "    'SANITIZING RINSE FOR EQUIPMENT AND UTENSILS:  CLEAN, PROPER TEMPERATURE, CONCENTRATION, EXPOSURE TIME',\n",
    "    'SINGLE-USE/SINGLE-SERVICE ARTICLES: PROPERLY STORED & USED',\n",
    "     'UTENSILS, EQUIPMENT & LINENS: PROPERLY STORED, DRIED, & HANDLED',\n",
    "     'WIPING CLOTHS: PROPERLY USED & STORED',\n",
    "]\n",
    "\n",
    "\n",
    "#food temp / cooking\n",
    "food_temp = ['FOOD RECEIVED AT PROPER TEMPERATURE',\n",
    " 'REFRIGERATION AND METAL STEM THERMOMETERS PROVIDED AND CONSPICUOUS',\n",
    "    \n",
    "'PLANT FOOD PROPERLY COOKED FOR HOT HOLDING',\n",
    "    \n",
    " 'POTENTIALLY HAZARDOUS FOOD MEETS TEMPERATURE REQUIREMENT DURING STORAGE, PREPARATION DISPLAY AND SERVICE',\n",
    " 'POTENTIALLY HAZARDOUS FOOD PROPERLY THAWED',\n",
    "    \n",
    "'PROPER COLD HOLDING TEMPERATURES',\n",
    " 'PROPER COOKING TIME & TEMPERATURES',\n",
    " 'PROPER COOLING METHODS USED; ADEQUATE EQUIPMENT FOR TEMPERATURE CONTROL',\n",
    " 'PROPER COOLING TIME AND TEMPERATURE',\n",
    "    \n",
    " 'PROPER HOT HOLDING TEMPERATURES',\n",
    " 'PROPER REHEATING PROCEDURES FOR HOT HOLDING',\n",
    " #thawing\n",
    "'APPROVED THAWING METHODS USED',\n",
    "\n",
    "]    \n",
    "    \n",
    "\n",
    "#food contact  \n",
    "food_contact = ['FOOD & NON-FOOD CONTACT SURFACES CLEANABLE, PROPERLY DESIGNED, CONSTRUCTED & USED',\n",
    "'FOOD AND NON-FOOD CONTACT EQUIPMENT UTENSILS CLEAN, FREE OF ABRASIVE DETERGENTS',\n",
    "'FOOD AND NON-FOOD CONTACT SURFACES PROPERLY DESIGNED, CONSTRUCTED AND MAINTAINED',\n",
    "'APPROPRIATE METHOD OF HANDLING OF FOOD (ICE) HAIR RESTRAINTS AND CLEAN APPAREL WORN',\n",
    "'FOOD-CONTACT SURFACES: CLEANED & SANITIZED',\n",
    "]\n",
    "# general\n",
    "general = ['NON-FOOD/FOOD CONTACT SURFACES CLEAN',\n",
    "    'PROPER EATING, TASTING, DRINKING, OR TOBACCO USE',\n",
    "    'PROPER USE OF RESTRICTION AND EXCLUSION',\n",
    "     'SOURCE SOUND CONDITION, NO SPOILAGE, FOODS PROPERLY LABELED, SHELLFISH TAGS IN PLACE',\n",
    "               'NO SMOKING REGULATIONS',\n",
    "           'ADEQUATE NUMBER, CONVENIENT, ACCESSIBLE, DESIGNED, AND MAINTAINED',\n",
    "'ADEQUATE NUMBER, CONVENIENT, ACCESSIBLE, PROPERLY DESIGNED AND INSTALLED',\n",
    "\n",
    "]\n",
    "\n",
    "    \n",
    "#facility\n",
    "facility = ['LIGHTING: REQUIRED MINIMUM FOOT-CANDLES OF LIGHT PROVIDED, FIXTURES SHIELDED',\n",
    "'FLOORS: CONSTRUCTED PER CODE, CLEANED, GOOD REPAIR, COVING INSTALLED, DUST-LESS CLEANING METHODS USED',\n",
    "\n",
    " 'OUTSIDE GARBAGE WASTE GREASE AND STORAGE AREA; CLEAN, RODENT PROOF, ALL CONTAINERS COVERED',\n",
    "'GARBAGE & REFUSE PROPERLY DISPOSED; FACILITIES MAINTAINED',\n",
    "'PHYSICAL FACILITIES INSTALLED, MAINTAINED & CLEAN',\n",
    " 'PLUMBING INSTALLED; PROPER BACKFLOW DEVICES',\n",
    "     'PREMISES MAINTAINED FREE OF LITTER, UNNECESSARY ARTICLES, CLEANING  EQUIPMENT PROPERLY STORED',\n",
    "     'SEWAGE AND WASTE WATER DISPOSAL, NO BACK SIPHONAGE, CROSS  CONNECTION AND/OR BACK FLOW',\n",
    "     'SEWAGE & WASTE WATER PROPERLY DISPOSED',\n",
    "    'TOILET FACILITIES: PROPERLY CONSTRUCTED, SUPPLIED, & CLEANED',\n",
    " 'TOILET ROOM DOORS SELF CLOSING: DRESSING ROOMS WITH LOCKERS PROVIDED: COMPLETE SEPARATION FROM LIVING/SLEEPING QUARTERS',\n",
    " 'TOILET ROOMS ENCLOSED CLEAN, PROVIDED WITH HAND CLEANSER, SANITARY HAND DRYING DEVICES AND PROPER WASTE RECEPTACLES',\n",
    " 'THERMOMETERS PROVIDED & ACCURATE',\n",
    "'WAREWASHING FACILITIES: INSTALLED, MAINTAINED & USED; TEST STRIPS',\n",
    "'WALLS, CEILINGS, ATTACHED EQUIPMENT CONSTRUCTED PER CODE: GOOD REPAIR, SURFACES CLEAN AND DUST-LESS CLEANING METHODS',\n",
    " 'WATER SOURCE: SAFE, HOT & COLD UNDER CITY PRESSURE',\n",
    "            # facility temp\n",
    "'FACILITIES TO MAINTAIN PROPER TEMPERATURE',\n",
    "            'HOT & COLD WATER AVAILABLE; ADEQUATE PRESSURE',\n",
    "    \n",
    "# facility air \n",
    "'COMPLIANCE WITH CLEAN INDOOR AIR ORDINANCE',\n",
    "'ADEQUATE VENTILATION & LIGHTING; DESIGNATED AREAS USED',\n",
    " 'VENTILATION: ROOMS AND EQUIPMENT VENTED AS REQUIRED: PLUMBING: INSTALLED AND MAINTAINED',\n",
    "\n",
    "\n",
    "]\n",
    "\n",
    "\n"
   ]
  },
  {
   "cell_type": "code",
   "execution_count": 11,
   "metadata": {},
   "outputs": [],
   "source": [
    "def violation_redefine(v):\n",
    "    if v in others:\n",
    "        return 'others'\n",
    "    elif v in corrected:\n",
    "        return 'corrected'\n",
    "    elif v in personnel:\n",
    "        return 'personnel'\n",
    "    elif v in guests:\n",
    "        return 'guests'\n",
    "    elif v in consumer:\n",
    "        return 'consumer'\n",
    "    elif v in hygyene:\n",
    "        return 'hygene'\n",
    "    elif v in source:\n",
    "        return 'source'\n",
    "    elif v in control:\n",
    "        return 'control'\n",
    "    elif v in storage:\n",
    "        return 'storage'\n",
    "    elif v in utensils:\n",
    "        return 'utensils'\n",
    "    elif v in food_temp:\n",
    "        return 'food_temp'\n",
    "    elif v in food_contact:\n",
    "        return 'food_contact'\n",
    "    elif v in general:\n",
    "        return 'general'\n",
    "    elif v in facility:\n",
    "        return 'facility'\n",
    "    else:\n",
    "        return 'not defined'\n",
    "\n",
    "    #others\n",
    "#corrected\n",
    "#personnel\n",
    "#guests\n",
    "# consumer\n",
    "#hygyene\n",
    "#source\n",
    "#control\n",
    "#storage \n",
    "#utensils  \n",
    "#food_temp\n",
    "#food_contact  \n",
    "# general\n",
    "#facility"
   ]
  },
  {
   "cell_type": "code",
   "execution_count": null,
   "metadata": {},
   "outputs": [],
   "source": []
  },
  {
   "cell_type": "code",
   "execution_count": 12,
   "metadata": {},
   "outputs": [],
   "source": [
    "violations['violation_simple'] = violations['Violation'].apply(lambda x:x.split('Comments')[0].strip(' - ').split('. ')[1])\n",
    "violations['violation_simple'] = violations.violation_simple.apply(violation_redefine)\n",
    "#violations[['Inspection Date','violation_simple']]"
   ]
  },
  {
   "cell_type": "code",
   "execution_count": null,
   "metadata": {},
   "outputs": [],
   "source": []
  },
  {
   "cell_type": "code",
   "execution_count": 13,
   "metadata": {},
   "outputs": [],
   "source": [
    "viols_count = violations['Violation'].apply(lambda x:x.split('Comments')[0].strip(' - ').split('. ')[1]).value_counts()\n",
    "#viols_count[viols_count > viols_count.mean()]"
   ]
  },
  {
   "cell_type": "code",
   "execution_count": null,
   "metadata": {},
   "outputs": [],
   "source": []
  },
  {
   "cell_type": "code",
   "execution_count": null,
   "metadata": {},
   "outputs": [],
   "source": []
  },
  {
   "cell_type": "code",
   "execution_count": null,
   "metadata": {},
   "outputs": [],
   "source": []
  },
  {
   "cell_type": "code",
   "execution_count": null,
   "metadata": {},
   "outputs": [],
   "source": []
  },
  {
   "cell_type": "code",
   "execution_count": null,
   "metadata": {},
   "outputs": [],
   "source": []
  },
  {
   "cell_type": "code",
   "execution_count": null,
   "metadata": {},
   "outputs": [],
   "source": []
  },
  {
   "cell_type": "markdown",
   "metadata": {},
   "source": [
    "### Check Rodents related issues ###"
   ]
  },
  {
   "cell_type": "code",
   "execution_count": 14,
   "metadata": {},
   "outputs": [],
   "source": [
    "result = violations[['Community','Inspection Date','violation_simple']].copy()"
   ]
  },
  {
   "cell_type": "code",
   "execution_count": 15,
   "metadata": {},
   "outputs": [],
   "source": [
    "result['Inspection Date'] = result['Inspection Date'].apply(lambda x: x.year)\n",
    "result.rename(columns={'Inspection Date' : 'Inspection Year'}, inplace=True)\n",
    "rodents = result[result.violation_simple.apply(lambda x:x == 'guests')]"
   ]
  },
  {
   "cell_type": "code",
   "execution_count": 16,
   "metadata": {},
   "outputs": [
    {
     "data": {
      "text/plain": [
       "<matplotlib.axes._subplots.AxesSubplot at 0x1828388cfd0>"
      ]
     },
     "execution_count": 16,
     "metadata": {},
     "output_type": "execute_result"
    },
    {
     "data": {
      "image/png": "[encoded data removed]",
      "text/plain": [
       "<Figure size 432x288 with 1 Axes>"
      ]
     },
     "metadata": {
      "needs_background": "light"
     },
     "output_type": "display_data"
    }
   ],
   "source": [
    "rodents.groupby('Inspection Year').size().plot.bar()"
   ]
  },
  {
   "cell_type": "markdown",
   "metadata": {},
   "source": [
    " total occurence of insenct/rodent related violation doesn't change much"
   ]
  },
  {
   "cell_type": "markdown",
   "metadata": {},
   "source": []
  },
  {
   "cell_type": "markdown",
   "metadata": {},
   "source": [
    "## Rodents occurence per community ##"
   ]
  },
  {
   "cell_type": "code",
   "execution_count": 20,
   "metadata": {},
   "outputs": [],
   "source": [
    "for i in range(10):\n",
    "    m_violations = fo.Map(location=[41.8281136,-87.6297982], zoom_start=10, zoom_control=False)\n",
    "    df = pd.DataFrame(rodents[rodents['Inspection Year'] == (i+2010)].groupby('Community').size())    \n",
    "\n",
    "    nds = pd.DataFrame()\n",
    "    nds['Community'] = df.index.astype('str')\n",
    "    nds['Nb Violations'] = df[0].values\n",
    "    fe1 = fo.Choropleth(\n",
    "        geo_data='resources/geojsons/chicago-community.geojson',\n",
    "        name='Violations by communities',\n",
    "        data=nds,\n",
    "        columns=['Community', 'Nb Violations'],\n",
    "        key_on='properties.community',\n",
    "        fill_color='Reds',\n",
    "        fill_opacity=0.8,\n",
    "        line_opacity=0.2,\n",
    "        legend_name=' Mean of number of violations by community (in %)',\n",
    "\n",
    "    )\n",
    "    fe1.add_to(m_violations)\n",
    "    m_violations.save(outfile='results/violation_studies/community-unwantedguests-{0}.html'.format(i+2010))\n",
    "    \n",
    "# how to fix threshold throughout the html?"
   ]
  },
  {
   "cell_type": "markdown",
   "metadata": {},
   "source": [
    "The rodents/insect issues are likely to happen in northern part of Chicago. This is quite counter-intuitive, since it's more sensible to guess that rodents will likely to appear in poor regions. In the map, the region that has most 'violation' on rodents is the richest part of Chicago. "
   ]
  },
  {
   "cell_type": "markdown",
   "metadata": {},
   "source": [
    "## In order to compare the absolute value, try using bar chart ##"
   ]
  },
  {
   "cell_type": "code",
   "execution_count": 18,
   "metadata": {},
   "outputs": [
    {
     "data": {
      "image/png": "[encoded data removed]",
      "text/plain": [
       "<Figure size 1440x720 with 10 Axes>"
      ]
     },
     "metadata": {},
     "output_type": "display_data"
    }
   ],
   "source": [
    "fig, axs = plt.subplots(2,5, figsize=(20, 10), facecolor='w', edgecolor='k')\n",
    "axs = axs.ravel()\n",
    "\n",
    "for i in range(10):\n",
    "    df = pd.DataFrame(rodents[rodents['Inspection Year'] == (i+2010)].groupby('Community').size())    \n",
    "    \n",
    "    axs[i].bar(df.index, df[0])\n",
    "    axs[i].set_ylim(0,300)\n",
    "    axs[i].set_title('Unwanted guests: {0}'.format(i + 2010))\n",
    "    axs[i].set_xticks([])\n",
    "\n",
    "    "
   ]
  },
  {
   "cell_type": "markdown",
   "metadata": {},
   "source": []
  },
  {
   "cell_type": "code",
   "execution_count": 9,
   "metadata": {},
   "outputs": [],
   "source": [
    "# geo of no violation"
   ]
  },
  {
   "cell_type": "code",
   "execution_count": null,
   "metadata": {},
   "outputs": [],
   "source": []
  }
 ],
 "metadata": {
  "kernelspec": {
   "display_name": "Python 3",
   "language": "python",
   "name": "python3"
  },
  "language_info": {
   "codemirror_mode": {
    "name": "ipython",
    "version": 3
   },
   "file_extension": ".py",
   "mimetype": "text/x-python",
   "name": "python",
   "nbconvert_exporter": "python",
   "pygments_lexer": "ipython3",
   "version": "3.7.3"
  }
 },
 "nbformat": 4,
 "nbformat_minor": 4
}
